{
 "cells": [
  {
   "cell_type": "markdown",
   "id": "a16a075a441027c6",
   "metadata": {
    "collapsed": false
   },
   "source": [
    "## Project Phase 3 - Validation"
   ]
  },
  {
   "cell_type": "markdown",
   "id": "95547d2c0af75a2",
   "metadata": {
    "collapsed": false
   },
   "source": [
    "#### Import modules"
   ]
  },
  {
   "cell_type": "code",
   "execution_count": 1,
   "id": "2d71813b8bbe0542",
   "metadata": {
    "collapsed": false,
    "ExecuteTime": {
     "end_time": "2024-04-22T03:47:35.513956Z",
     "start_time": "2024-04-22T03:47:35.190648Z"
    }
   },
   "outputs": [],
   "source": [
    "from pathlib import Path\n",
    "import os\n",
    "import sys\n",
    "import time\n",
    "import warnings\n",
    "\n",
    "import pandas as pd"
   ]
  },
  {
   "cell_type": "code",
   "execution_count": 2,
   "id": "2f22d7dd27cbfd5c",
   "metadata": {
    "collapsed": false,
    "ExecuteTime": {
     "end_time": "2024-04-22T03:47:35.517406Z",
     "start_time": "2024-04-22T03:47:35.514842Z"
    }
   },
   "outputs": [
    {
     "name": "stdout",
     "output_type": "stream",
     "text": [
      "/Users/leon/Documents/Repos/Gesture-Recognition-Reading-Muscle-Activity\n"
     ]
    }
   ],
   "source": [
    "path = Path(os.getcwd())\n",
    "path = str(path)\n",
    "print(path)\n",
    "sys.path.insert(1, path)"
   ]
  },
  {
   "cell_type": "code",
   "execution_count": 3,
   "id": "d538ff9d39481838",
   "metadata": {
    "collapsed": false,
    "ExecuteTime": {
     "end_time": "2024-04-22T03:47:38.377643Z",
     "start_time": "2024-04-22T03:47:35.518014Z"
    }
   },
   "outputs": [],
   "source": [
    "import utils.clustering as clustering\n",
    "import utils.validation as validation"
   ]
  },
  {
   "cell_type": "code",
   "execution_count": 4,
   "id": "99023b8be2b84b86",
   "metadata": {
    "collapsed": false,
    "ExecuteTime": {
     "end_time": "2024-04-22T03:47:38.383089Z",
     "start_time": "2024-04-22T03:47:38.378563Z"
    }
   },
   "outputs": [],
   "source": [
    "warnings.filterwarnings(\"ignore\")"
   ]
  },
  {
   "cell_type": "markdown",
   "id": "7f612bb47875ab2c",
   "metadata": {
    "collapsed": false
   },
   "source": [
    "#### Set up to time script run time"
   ]
  },
  {
   "cell_type": "code",
   "execution_count": 5,
   "id": "8024bb94f018ccea",
   "metadata": {
    "collapsed": false,
    "ExecuteTime": {
     "end_time": "2024-04-22T03:47:38.388355Z",
     "start_time": "2024-04-22T03:47:38.382004Z"
    }
   },
   "outputs": [],
   "source": [
    "start = time.time()"
   ]
  },
  {
   "cell_type": "markdown",
   "id": "d694618112800a4c",
   "metadata": {
    "collapsed": false
   },
   "source": [
    "#### Configuration"
   ]
  },
  {
   "cell_type": "code",
   "execution_count": 6,
   "id": "84717677c080f5db",
   "metadata": {
    "collapsed": false,
    "ExecuteTime": {
     "end_time": "2024-04-22T03:47:38.388545Z",
     "start_time": "2024-04-22T03:47:38.385140Z"
    }
   },
   "outputs": [],
   "source": [
    "SOLUTION_PICKLE_FILE_PATH = 'data/optimization_results.pkl'\n",
    "DESIGN_FILE_PATH = 'data/emg_design.csv'\n",
    "TARGET_FILE_PATH = 'data/emg_target.csv'\n",
    "TARGET_ATTR = 'gesture class (0-3)'"
   ]
  },
  {
   "cell_type": "markdown",
   "id": "ce1fc50fcb0e90b8",
   "metadata": {
    "collapsed": false
   },
   "source": [
    "#### The optimization results from clustering pipeline optimization"
   ]
  },
  {
   "cell_type": "code",
   "execution_count": 7,
   "id": "e64abc5e33af5094",
   "metadata": {
    "collapsed": false,
    "ExecuteTime": {
     "end_time": "2024-04-22T03:47:38.580274Z",
     "start_time": "2024-04-22T03:47:38.388021Z"
    }
   },
   "outputs": [
    {
     "data": {
      "text/plain": "        algo       eps  dbscan_min_samples  n_clusters_found  validity_index  \\\n0    k_means       NaN                 NaN                 3             NaN   \n1    k_means       NaN                 NaN                 3             NaN   \n2    k_means       NaN                 NaN                 3             NaN   \n3    k_means       NaN                 NaN                 3             NaN   \n4    k_means       NaN                 NaN                 3             NaN   \n..       ...       ...                 ...               ...             ...   \n145   dbscan  0.115614                 6.0                 3       -0.736907   \n146   dbscan  0.152404                 6.0                 3       -0.743036   \n147   dbscan  0.096328                 6.0                 2       -0.752965   \n148   dbscan  0.473131                 6.0                13       -0.773474   \n149   dbscan  0.271902                 6.0                 2       -0.797766   \n\n     hopkins_statistic  umap_n_neighbors  umap_min_dist umap_metric  \\\n0             0.734961                 7        0.00100      cosine   \n1             0.761623                 7        0.00100      cosine   \n2             0.760266                 7        0.00001      cosine   \n3             0.763695                 7        0.00001      cosine   \n4             0.736636                 7        0.00001      cosine   \n..                 ...               ...            ...         ...   \n145           0.453044                42        0.10000   euclidean   \n146           0.424897                17        0.10000      cosine   \n147           0.449576                42        0.00100   euclidean   \n148           0.332102                 3        0.10000      cosine   \n149           0.367107                 7        0.00100      cosine   \n\n     umap_n_components  trustworthiness  \\\n0                    5         0.823645   \n1                   10         0.823610   \n2                   10         0.824708   \n3                   15         0.824834   \n4                    5         0.823768   \n..                 ...              ...   \n145                  2         0.593051   \n146                  2         0.750826   \n147                  2         0.597704   \n148                  2         0.755032   \n149                  2         0.778314   \n\n                                      fitted_dbscan  \\\n0                                               NaN   \n1                                               NaN   \n2                                               NaN   \n3                                               NaN   \n4                                               NaN   \n..                                              ...   \n145   DBSCAN(eps=0.1156137251191497, min_samples=6)   \n146   DBSCAN(eps=0.1524039997582118, min_samples=6)   \n147  DBSCAN(eps=0.09632816797667515, min_samples=6)   \n148    DBSCAN(eps=0.473131018951767, min_samples=6)   \n149   DBSCAN(eps=0.2719018306884403, min_samples=6)   \n\n                                             embedding  \\\n0    [[3.2748647, 7.6493006, 3.9626865, 4.479932, 6...   \n1    [[3.227192, 7.637264, 3.9158268, 4.851348, 6.4...   \n2    [[3.2835078, 7.658021, 3.8094757, 4.7666316, 6...   \n3    [[3.2331347, 7.6844172, 3.920934, 4.8214865, 6...   \n4    [[3.161631, 7.5509453, 3.8223517, 4.6232133, 6...   \n..                                                 ...   \n145  [[-0.36745512, 7.3653316], [-0.5968582, 7.0834...   \n146  [[2.2316277, 0.73641324], [2.1696315, 0.589929...   \n147  [[0.5836985, 8.050481], [0.41431034, 7.96385],...   \n148  [[9.46398, 3.5633922], [9.801375, 2.924061], [...   \n149  [[2.4606905, 3.5460074], [1.846725, 3.6684155]...   \n\n                                        cluster_labels  \\\n0    [2, 2, 2, 2, 2, 2, 2, 2, 2, 2, 2, 2, 2, 2, 2, ...   \n1    [2, 2, 2, 2, 2, 2, 2, 2, 2, 2, 2, 2, 2, 2, 2, ...   \n2    [2, 2, 2, 2, 2, 2, 2, 2, 2, 2, 2, 2, 2, 2, 2, ...   \n3    [2, 2, 2, 2, 2, 2, 2, 2, 2, 2, 2, 2, 2, 2, 2, ...   \n4    [2, 2, 2, 2, 2, 2, 2, 2, 2, 2, 2, 2, 2, 2, 2, ...   \n..                                                 ...   \n145  [0, 0, 0, 0, 0, 0, 0, 0, 0, 1, 0, 0, 0, 0, 0, ...   \n146  [0, 0, 0, 0, 0, 0, 0, 0, 0, 0, 0, 0, 0, 0, 0, ...   \n147  [0, 0, 0, 0, 0, 0, 0, 0, 0, 1, 0, 0, 0, 0, 0, ...   \n148  [0, 0, 0, 1, 0, 0, 0, 0, 0, 0, 0, 0, 0, 0, 0, ...   \n149  [0, 0, 0, 0, 0, 0, 0, 0, 0, 0, 0, 0, 0, 0, 0, ...   \n\n     n_clusters_db_score_is_min  n_clusters_ch_score_is_max  \\\n0                           3.0                         3.0   \n1                           3.0                         3.0   \n2                           3.0                         3.0   \n3                           3.0                         3.0   \n4                           3.0                         3.0   \n..                          ...                         ...   \n145                         NaN                         NaN   \n146                         NaN                         NaN   \n147                         NaN                         NaN   \n148                         NaN                         NaN   \n149                         NaN                         NaN   \n\n     n_clusters_silhouette_score_is_max  silhouette_score  \\\n0                                   3.0          0.549104   \n1                                   3.0          0.549001   \n2                                   3.0          0.548391   \n3                                   3.0          0.547967   \n4                                   3.0          0.545115   \n..                                  ...               ...   \n145                                 NaN               NaN   \n146                                 NaN               NaN   \n147                                 NaN               NaN   \n148                                 NaN               NaN   \n149                                 NaN               NaN   \n\n                                        fitted_k_means  \n0    KMeans(n_clusters=3, n_init='auto', random_sta...  \n1    KMeans(n_clusters=3, n_init='auto', random_sta...  \n2    KMeans(n_clusters=3, n_init='auto', random_sta...  \n3    KMeans(n_clusters=3, n_init='auto', random_sta...  \n4    KMeans(n_clusters=3, n_init='auto', random_sta...  \n..                                                 ...  \n145                                                NaN  \n146                                                NaN  \n147                                                NaN  \n148                                                NaN  \n149                                                NaN  \n\n[150 rows x 19 columns]",
      "text/html": "<div>\n<style scoped>\n    .dataframe tbody tr th:only-of-type {\n        vertical-align: middle;\n    }\n\n    .dataframe tbody tr th {\n        vertical-align: top;\n    }\n\n    .dataframe thead th {\n        text-align: right;\n    }\n</style>\n<table border=\"1\" class=\"dataframe\">\n  <thead>\n    <tr style=\"text-align: right;\">\n      <th></th>\n      <th>algo</th>\n      <th>eps</th>\n      <th>dbscan_min_samples</th>\n      <th>n_clusters_found</th>\n      <th>validity_index</th>\n      <th>hopkins_statistic</th>\n      <th>umap_n_neighbors</th>\n      <th>umap_min_dist</th>\n      <th>umap_metric</th>\n      <th>umap_n_components</th>\n      <th>trustworthiness</th>\n      <th>fitted_dbscan</th>\n      <th>embedding</th>\n      <th>cluster_labels</th>\n      <th>n_clusters_db_score_is_min</th>\n      <th>n_clusters_ch_score_is_max</th>\n      <th>n_clusters_silhouette_score_is_max</th>\n      <th>silhouette_score</th>\n      <th>fitted_k_means</th>\n    </tr>\n  </thead>\n  <tbody>\n    <tr>\n      <th>0</th>\n      <td>k_means</td>\n      <td>NaN</td>\n      <td>NaN</td>\n      <td>3</td>\n      <td>NaN</td>\n      <td>0.734961</td>\n      <td>7</td>\n      <td>0.00100</td>\n      <td>cosine</td>\n      <td>5</td>\n      <td>0.823645</td>\n      <td>NaN</td>\n      <td>[[3.2748647, 7.6493006, 3.9626865, 4.479932, 6...</td>\n      <td>[2, 2, 2, 2, 2, 2, 2, 2, 2, 2, 2, 2, 2, 2, 2, ...</td>\n      <td>3.0</td>\n      <td>3.0</td>\n      <td>3.0</td>\n      <td>0.549104</td>\n      <td>KMeans(n_clusters=3, n_init='auto', random_sta...</td>\n    </tr>\n    <tr>\n      <th>1</th>\n      <td>k_means</td>\n      <td>NaN</td>\n      <td>NaN</td>\n      <td>3</td>\n      <td>NaN</td>\n      <td>0.761623</td>\n      <td>7</td>\n      <td>0.00100</td>\n      <td>cosine</td>\n      <td>10</td>\n      <td>0.823610</td>\n      <td>NaN</td>\n      <td>[[3.227192, 7.637264, 3.9158268, 4.851348, 6.4...</td>\n      <td>[2, 2, 2, 2, 2, 2, 2, 2, 2, 2, 2, 2, 2, 2, 2, ...</td>\n      <td>3.0</td>\n      <td>3.0</td>\n      <td>3.0</td>\n      <td>0.549001</td>\n      <td>KMeans(n_clusters=3, n_init='auto', random_sta...</td>\n    </tr>\n    <tr>\n      <th>2</th>\n      <td>k_means</td>\n      <td>NaN</td>\n      <td>NaN</td>\n      <td>3</td>\n      <td>NaN</td>\n      <td>0.760266</td>\n      <td>7</td>\n      <td>0.00001</td>\n      <td>cosine</td>\n      <td>10</td>\n      <td>0.824708</td>\n      <td>NaN</td>\n      <td>[[3.2835078, 7.658021, 3.8094757, 4.7666316, 6...</td>\n      <td>[2, 2, 2, 2, 2, 2, 2, 2, 2, 2, 2, 2, 2, 2, 2, ...</td>\n      <td>3.0</td>\n      <td>3.0</td>\n      <td>3.0</td>\n      <td>0.548391</td>\n      <td>KMeans(n_clusters=3, n_init='auto', random_sta...</td>\n    </tr>\n    <tr>\n      <th>3</th>\n      <td>k_means</td>\n      <td>NaN</td>\n      <td>NaN</td>\n      <td>3</td>\n      <td>NaN</td>\n      <td>0.763695</td>\n      <td>7</td>\n      <td>0.00001</td>\n      <td>cosine</td>\n      <td>15</td>\n      <td>0.824834</td>\n      <td>NaN</td>\n      <td>[[3.2331347, 7.6844172, 3.920934, 4.8214865, 6...</td>\n      <td>[2, 2, 2, 2, 2, 2, 2, 2, 2, 2, 2, 2, 2, 2, 2, ...</td>\n      <td>3.0</td>\n      <td>3.0</td>\n      <td>3.0</td>\n      <td>0.547967</td>\n      <td>KMeans(n_clusters=3, n_init='auto', random_sta...</td>\n    </tr>\n    <tr>\n      <th>4</th>\n      <td>k_means</td>\n      <td>NaN</td>\n      <td>NaN</td>\n      <td>3</td>\n      <td>NaN</td>\n      <td>0.736636</td>\n      <td>7</td>\n      <td>0.00001</td>\n      <td>cosine</td>\n      <td>5</td>\n      <td>0.823768</td>\n      <td>NaN</td>\n      <td>[[3.161631, 7.5509453, 3.8223517, 4.6232133, 6...</td>\n      <td>[2, 2, 2, 2, 2, 2, 2, 2, 2, 2, 2, 2, 2, 2, 2, ...</td>\n      <td>3.0</td>\n      <td>3.0</td>\n      <td>3.0</td>\n      <td>0.545115</td>\n      <td>KMeans(n_clusters=3, n_init='auto', random_sta...</td>\n    </tr>\n    <tr>\n      <th>...</th>\n      <td>...</td>\n      <td>...</td>\n      <td>...</td>\n      <td>...</td>\n      <td>...</td>\n      <td>...</td>\n      <td>...</td>\n      <td>...</td>\n      <td>...</td>\n      <td>...</td>\n      <td>...</td>\n      <td>...</td>\n      <td>...</td>\n      <td>...</td>\n      <td>...</td>\n      <td>...</td>\n      <td>...</td>\n      <td>...</td>\n      <td>...</td>\n    </tr>\n    <tr>\n      <th>145</th>\n      <td>dbscan</td>\n      <td>0.115614</td>\n      <td>6.0</td>\n      <td>3</td>\n      <td>-0.736907</td>\n      <td>0.453044</td>\n      <td>42</td>\n      <td>0.10000</td>\n      <td>euclidean</td>\n      <td>2</td>\n      <td>0.593051</td>\n      <td>DBSCAN(eps=0.1156137251191497, min_samples=6)</td>\n      <td>[[-0.36745512, 7.3653316], [-0.5968582, 7.0834...</td>\n      <td>[0, 0, 0, 0, 0, 0, 0, 0, 0, 1, 0, 0, 0, 0, 0, ...</td>\n      <td>NaN</td>\n      <td>NaN</td>\n      <td>NaN</td>\n      <td>NaN</td>\n      <td>NaN</td>\n    </tr>\n    <tr>\n      <th>146</th>\n      <td>dbscan</td>\n      <td>0.152404</td>\n      <td>6.0</td>\n      <td>3</td>\n      <td>-0.743036</td>\n      <td>0.424897</td>\n      <td>17</td>\n      <td>0.10000</td>\n      <td>cosine</td>\n      <td>2</td>\n      <td>0.750826</td>\n      <td>DBSCAN(eps=0.1524039997582118, min_samples=6)</td>\n      <td>[[2.2316277, 0.73641324], [2.1696315, 0.589929...</td>\n      <td>[0, 0, 0, 0, 0, 0, 0, 0, 0, 0, 0, 0, 0, 0, 0, ...</td>\n      <td>NaN</td>\n      <td>NaN</td>\n      <td>NaN</td>\n      <td>NaN</td>\n      <td>NaN</td>\n    </tr>\n    <tr>\n      <th>147</th>\n      <td>dbscan</td>\n      <td>0.096328</td>\n      <td>6.0</td>\n      <td>2</td>\n      <td>-0.752965</td>\n      <td>0.449576</td>\n      <td>42</td>\n      <td>0.00100</td>\n      <td>euclidean</td>\n      <td>2</td>\n      <td>0.597704</td>\n      <td>DBSCAN(eps=0.09632816797667515, min_samples=6)</td>\n      <td>[[0.5836985, 8.050481], [0.41431034, 7.96385],...</td>\n      <td>[0, 0, 0, 0, 0, 0, 0, 0, 0, 1, 0, 0, 0, 0, 0, ...</td>\n      <td>NaN</td>\n      <td>NaN</td>\n      <td>NaN</td>\n      <td>NaN</td>\n      <td>NaN</td>\n    </tr>\n    <tr>\n      <th>148</th>\n      <td>dbscan</td>\n      <td>0.473131</td>\n      <td>6.0</td>\n      <td>13</td>\n      <td>-0.773474</td>\n      <td>0.332102</td>\n      <td>3</td>\n      <td>0.10000</td>\n      <td>cosine</td>\n      <td>2</td>\n      <td>0.755032</td>\n      <td>DBSCAN(eps=0.473131018951767, min_samples=6)</td>\n      <td>[[9.46398, 3.5633922], [9.801375, 2.924061], [...</td>\n      <td>[0, 0, 0, 1, 0, 0, 0, 0, 0, 0, 0, 0, 0, 0, 0, ...</td>\n      <td>NaN</td>\n      <td>NaN</td>\n      <td>NaN</td>\n      <td>NaN</td>\n      <td>NaN</td>\n    </tr>\n    <tr>\n      <th>149</th>\n      <td>dbscan</td>\n      <td>0.271902</td>\n      <td>6.0</td>\n      <td>2</td>\n      <td>-0.797766</td>\n      <td>0.367107</td>\n      <td>7</td>\n      <td>0.00100</td>\n      <td>cosine</td>\n      <td>2</td>\n      <td>0.778314</td>\n      <td>DBSCAN(eps=0.2719018306884403, min_samples=6)</td>\n      <td>[[2.4606905, 3.5460074], [1.846725, 3.6684155]...</td>\n      <td>[0, 0, 0, 0, 0, 0, 0, 0, 0, 0, 0, 0, 0, 0, 0, ...</td>\n      <td>NaN</td>\n      <td>NaN</td>\n      <td>NaN</td>\n      <td>NaN</td>\n      <td>NaN</td>\n    </tr>\n  </tbody>\n</table>\n<p>150 rows × 19 columns</p>\n</div>"
     },
     "execution_count": 7,
     "metadata": {},
     "output_type": "execute_result"
    }
   ],
   "source": [
    "clustering_results_df = pd.read_pickle(SOLUTION_PICKLE_FILE_PATH)\n",
    "clustering_results_df.reset_index(drop=True, inplace=True)\n",
    "clustering_results_df"
   ]
  },
  {
   "cell_type": "markdown",
   "id": "44be4a851fdb0256",
   "metadata": {
    "collapsed": false
   },
   "source": [
    "#### Select the Latent Manifold"
   ]
  },
  {
   "cell_type": "code",
   "execution_count": 8,
   "id": "ab0ab10ea3ada411",
   "metadata": {
    "collapsed": false,
    "ExecuteTime": {
     "end_time": "2024-04-22T03:47:38.582052Z",
     "start_time": "2024-04-22T03:47:38.578578Z"
    }
   },
   "outputs": [
    {
     "name": "stdout",
     "output_type": "stream",
     "text": [
      "0\n"
     ]
    },
    {
     "data": {
      "text/plain": "KMeans(n_clusters=3, n_init='auto', random_state=42)",
      "text/html": "<style>#sk-container-id-1 {color: black;}#sk-container-id-1 pre{padding: 0;}#sk-container-id-1 div.sk-toggleable {background-color: white;}#sk-container-id-1 label.sk-toggleable__label {cursor: pointer;display: block;width: 100%;margin-bottom: 0;padding: 0.3em;box-sizing: border-box;text-align: center;}#sk-container-id-1 label.sk-toggleable__label-arrow:before {content: \"▸\";float: left;margin-right: 0.25em;color: #696969;}#sk-container-id-1 label.sk-toggleable__label-arrow:hover:before {color: black;}#sk-container-id-1 div.sk-estimator:hover label.sk-toggleable__label-arrow:before {color: black;}#sk-container-id-1 div.sk-toggleable__content {max-height: 0;max-width: 0;overflow: hidden;text-align: left;background-color: #f0f8ff;}#sk-container-id-1 div.sk-toggleable__content pre {margin: 0.2em;color: black;border-radius: 0.25em;background-color: #f0f8ff;}#sk-container-id-1 input.sk-toggleable__control:checked~div.sk-toggleable__content {max-height: 200px;max-width: 100%;overflow: auto;}#sk-container-id-1 input.sk-toggleable__control:checked~label.sk-toggleable__label-arrow:before {content: \"▾\";}#sk-container-id-1 div.sk-estimator input.sk-toggleable__control:checked~label.sk-toggleable__label {background-color: #d4ebff;}#sk-container-id-1 div.sk-label input.sk-toggleable__control:checked~label.sk-toggleable__label {background-color: #d4ebff;}#sk-container-id-1 input.sk-hidden--visually {border: 0;clip: rect(1px 1px 1px 1px);clip: rect(1px, 1px, 1px, 1px);height: 1px;margin: -1px;overflow: hidden;padding: 0;position: absolute;width: 1px;}#sk-container-id-1 div.sk-estimator {font-family: monospace;background-color: #f0f8ff;border: 1px dotted black;border-radius: 0.25em;box-sizing: border-box;margin-bottom: 0.5em;}#sk-container-id-1 div.sk-estimator:hover {background-color: #d4ebff;}#sk-container-id-1 div.sk-parallel-item::after {content: \"\";width: 100%;border-bottom: 1px solid gray;flex-grow: 1;}#sk-container-id-1 div.sk-label:hover label.sk-toggleable__label {background-color: #d4ebff;}#sk-container-id-1 div.sk-serial::before {content: \"\";position: absolute;border-left: 1px solid gray;box-sizing: border-box;top: 0;bottom: 0;left: 50%;z-index: 0;}#sk-container-id-1 div.sk-serial {display: flex;flex-direction: column;align-items: center;background-color: white;padding-right: 0.2em;padding-left: 0.2em;position: relative;}#sk-container-id-1 div.sk-item {position: relative;z-index: 1;}#sk-container-id-1 div.sk-parallel {display: flex;align-items: stretch;justify-content: center;background-color: white;position: relative;}#sk-container-id-1 div.sk-item::before, #sk-container-id-1 div.sk-parallel-item::before {content: \"\";position: absolute;border-left: 1px solid gray;box-sizing: border-box;top: 0;bottom: 0;left: 50%;z-index: -1;}#sk-container-id-1 div.sk-parallel-item {display: flex;flex-direction: column;z-index: 1;position: relative;background-color: white;}#sk-container-id-1 div.sk-parallel-item:first-child::after {align-self: flex-end;width: 50%;}#sk-container-id-1 div.sk-parallel-item:last-child::after {align-self: flex-start;width: 50%;}#sk-container-id-1 div.sk-parallel-item:only-child::after {width: 0;}#sk-container-id-1 div.sk-dashed-wrapped {border: 1px dashed gray;margin: 0 0.4em 0.5em 0.4em;box-sizing: border-box;padding-bottom: 0.4em;background-color: white;}#sk-container-id-1 div.sk-label label {font-family: monospace;font-weight: bold;display: inline-block;line-height: 1.2em;}#sk-container-id-1 div.sk-label-container {text-align: center;}#sk-container-id-1 div.sk-container {/* jupyter's `normalize.less` sets `[hidden] { display: none; }` but bootstrap.min.css set `[hidden] { display: none !important; }` so we also need the `!important` here to be able to override the default hidden behavior on the sphinx rendered scikit-learn.org. See: https://github.com/scikit-learn/scikit-learn/issues/21755 */display: inline-block !important;position: relative;}#sk-container-id-1 div.sk-text-repr-fallback {display: none;}</style><div id=\"sk-container-id-1\" class=\"sk-top-container\"><div class=\"sk-text-repr-fallback\"><pre>KMeans(n_clusters=3, n_init=&#x27;auto&#x27;, random_state=42)</pre><b>In a Jupyter environment, please rerun this cell to show the HTML representation or trust the notebook. <br />On GitHub, the HTML representation is unable to render, please try loading this page with nbviewer.org.</b></div><div class=\"sk-container\" hidden><div class=\"sk-item\"><div class=\"sk-estimator sk-toggleable\"><input class=\"sk-toggleable__control sk-hidden--visually\" id=\"sk-estimator-id-1\" type=\"checkbox\" checked><label for=\"sk-estimator-id-1\" class=\"sk-toggleable__label sk-toggleable__label-arrow\">KMeans</label><div class=\"sk-toggleable__content\"><pre>KMeans(n_clusters=3, n_init=&#x27;auto&#x27;, random_state=42)</pre></div></div></div></div></div>"
     },
     "execution_count": 8,
     "metadata": {},
     "output_type": "execute_result"
    }
   ],
   "source": [
    "best_k_means = None\n",
    "best_k_means_index = None\n",
    "\n",
    "if (clustering_results_df['algo'] == 'k_means').any():\n",
    "    best_k_means, best_k_means_index = clustering.select_best_k_means_from_clustering_results(clustering_results_df)\n",
    "print(best_k_means_index)\n",
    "best_k_means"
   ]
  },
  {
   "cell_type": "code",
   "execution_count": 9,
   "id": "1f65104569f63fe9",
   "metadata": {
    "collapsed": false,
    "ExecuteTime": {
     "end_time": "2024-04-22T03:47:38.587031Z",
     "start_time": "2024-04-22T03:47:38.584109Z"
    }
   },
   "outputs": [
    {
     "name": "stdout",
     "output_type": "stream",
     "text": [
      "54\n"
     ]
    },
    {
     "data": {
      "text/plain": "DBSCAN(eps=1.0762764937608833, min_samples=6)",
      "text/html": "<style>#sk-container-id-2 {color: black;}#sk-container-id-2 pre{padding: 0;}#sk-container-id-2 div.sk-toggleable {background-color: white;}#sk-container-id-2 label.sk-toggleable__label {cursor: pointer;display: block;width: 100%;margin-bottom: 0;padding: 0.3em;box-sizing: border-box;text-align: center;}#sk-container-id-2 label.sk-toggleable__label-arrow:before {content: \"▸\";float: left;margin-right: 0.25em;color: #696969;}#sk-container-id-2 label.sk-toggleable__label-arrow:hover:before {color: black;}#sk-container-id-2 div.sk-estimator:hover label.sk-toggleable__label-arrow:before {color: black;}#sk-container-id-2 div.sk-toggleable__content {max-height: 0;max-width: 0;overflow: hidden;text-align: left;background-color: #f0f8ff;}#sk-container-id-2 div.sk-toggleable__content pre {margin: 0.2em;color: black;border-radius: 0.25em;background-color: #f0f8ff;}#sk-container-id-2 input.sk-toggleable__control:checked~div.sk-toggleable__content {max-height: 200px;max-width: 100%;overflow: auto;}#sk-container-id-2 input.sk-toggleable__control:checked~label.sk-toggleable__label-arrow:before {content: \"▾\";}#sk-container-id-2 div.sk-estimator input.sk-toggleable__control:checked~label.sk-toggleable__label {background-color: #d4ebff;}#sk-container-id-2 div.sk-label input.sk-toggleable__control:checked~label.sk-toggleable__label {background-color: #d4ebff;}#sk-container-id-2 input.sk-hidden--visually {border: 0;clip: rect(1px 1px 1px 1px);clip: rect(1px, 1px, 1px, 1px);height: 1px;margin: -1px;overflow: hidden;padding: 0;position: absolute;width: 1px;}#sk-container-id-2 div.sk-estimator {font-family: monospace;background-color: #f0f8ff;border: 1px dotted black;border-radius: 0.25em;box-sizing: border-box;margin-bottom: 0.5em;}#sk-container-id-2 div.sk-estimator:hover {background-color: #d4ebff;}#sk-container-id-2 div.sk-parallel-item::after {content: \"\";width: 100%;border-bottom: 1px solid gray;flex-grow: 1;}#sk-container-id-2 div.sk-label:hover label.sk-toggleable__label {background-color: #d4ebff;}#sk-container-id-2 div.sk-serial::before {content: \"\";position: absolute;border-left: 1px solid gray;box-sizing: border-box;top: 0;bottom: 0;left: 50%;z-index: 0;}#sk-container-id-2 div.sk-serial {display: flex;flex-direction: column;align-items: center;background-color: white;padding-right: 0.2em;padding-left: 0.2em;position: relative;}#sk-container-id-2 div.sk-item {position: relative;z-index: 1;}#sk-container-id-2 div.sk-parallel {display: flex;align-items: stretch;justify-content: center;background-color: white;position: relative;}#sk-container-id-2 div.sk-item::before, #sk-container-id-2 div.sk-parallel-item::before {content: \"\";position: absolute;border-left: 1px solid gray;box-sizing: border-box;top: 0;bottom: 0;left: 50%;z-index: -1;}#sk-container-id-2 div.sk-parallel-item {display: flex;flex-direction: column;z-index: 1;position: relative;background-color: white;}#sk-container-id-2 div.sk-parallel-item:first-child::after {align-self: flex-end;width: 50%;}#sk-container-id-2 div.sk-parallel-item:last-child::after {align-self: flex-start;width: 50%;}#sk-container-id-2 div.sk-parallel-item:only-child::after {width: 0;}#sk-container-id-2 div.sk-dashed-wrapped {border: 1px dashed gray;margin: 0 0.4em 0.5em 0.4em;box-sizing: border-box;padding-bottom: 0.4em;background-color: white;}#sk-container-id-2 div.sk-label label {font-family: monospace;font-weight: bold;display: inline-block;line-height: 1.2em;}#sk-container-id-2 div.sk-label-container {text-align: center;}#sk-container-id-2 div.sk-container {/* jupyter's `normalize.less` sets `[hidden] { display: none; }` but bootstrap.min.css set `[hidden] { display: none !important; }` so we also need the `!important` here to be able to override the default hidden behavior on the sphinx rendered scikit-learn.org. See: https://github.com/scikit-learn/scikit-learn/issues/21755 */display: inline-block !important;position: relative;}#sk-container-id-2 div.sk-text-repr-fallback {display: none;}</style><div id=\"sk-container-id-2\" class=\"sk-top-container\"><div class=\"sk-text-repr-fallback\"><pre>DBSCAN(eps=1.0762764937608833, min_samples=6)</pre><b>In a Jupyter environment, please rerun this cell to show the HTML representation or trust the notebook. <br />On GitHub, the HTML representation is unable to render, please try loading this page with nbviewer.org.</b></div><div class=\"sk-container\" hidden><div class=\"sk-item\"><div class=\"sk-estimator sk-toggleable\"><input class=\"sk-toggleable__control sk-hidden--visually\" id=\"sk-estimator-id-2\" type=\"checkbox\" checked><label for=\"sk-estimator-id-2\" class=\"sk-toggleable__label sk-toggleable__label-arrow\">DBSCAN</label><div class=\"sk-toggleable__content\"><pre>DBSCAN(eps=1.0762764937608833, min_samples=6)</pre></div></div></div></div></div>"
     },
     "execution_count": 9,
     "metadata": {},
     "output_type": "execute_result"
    }
   ],
   "source": [
    "best_dbscan = None\n",
    "best_dbscan_index = None\n",
    "\n",
    "if (clustering_results_df['algo'] == 'dbscan').any():\n",
    "    best_dbscan, best_dbscan_index = clustering.select_best_dbscan_from_clustering_results(clustering_results_df)\n",
    "print(best_dbscan_index)\n",
    "best_dbscan"
   ]
  },
  {
   "cell_type": "code",
   "execution_count": 10,
   "id": "63f4fab0afc3a99",
   "metadata": {
    "collapsed": false,
    "ExecuteTime": {
     "end_time": "2024-04-22T03:47:38.594754Z",
     "start_time": "2024-04-22T03:47:38.589200Z"
    }
   },
   "outputs": [
    {
     "data": {
      "text/plain": "0"
     },
     "execution_count": 10,
     "metadata": {},
     "output_type": "execute_result"
    }
   ],
   "source": [
    "best_index = clustering.select_latent_manifold(clustering_results_df, best_k_means_index, best_dbscan_index)\n",
    "best_index"
   ]
  },
  {
   "cell_type": "code",
   "execution_count": 11,
   "id": "1079af1b8e837267",
   "metadata": {
    "collapsed": false,
    "ExecuteTime": {
     "end_time": "2024-04-22T03:47:38.624936Z",
     "start_time": "2024-04-22T03:47:38.593445Z"
    }
   },
   "outputs": [
    {
     "data": {
      "text/plain": "   number of classes in data set  UMAP n_components  UMAP min_dist  \\\n0                              4                  5          0.001   \n\n   UMAP n_neighbors UMAP metric  trustworthiness clustering algorithm  \\\n0                 7      cosine         0.823645              k_means   \n\n   number of clusters found  validity index or silhouette score  \n0                         3                            0.549104  ",
      "text/html": "<div>\n<style scoped>\n    .dataframe tbody tr th:only-of-type {\n        vertical-align: middle;\n    }\n\n    .dataframe tbody tr th {\n        vertical-align: top;\n    }\n\n    .dataframe thead th {\n        text-align: right;\n    }\n</style>\n<table border=\"1\" class=\"dataframe\">\n  <thead>\n    <tr style=\"text-align: right;\">\n      <th></th>\n      <th>number of classes in data set</th>\n      <th>UMAP n_components</th>\n      <th>UMAP min_dist</th>\n      <th>UMAP n_neighbors</th>\n      <th>UMAP metric</th>\n      <th>trustworthiness</th>\n      <th>clustering algorithm</th>\n      <th>number of clusters found</th>\n      <th>validity index or silhouette score</th>\n    </tr>\n  </thead>\n  <tbody>\n    <tr>\n      <th>0</th>\n      <td>4</td>\n      <td>5</td>\n      <td>0.001</td>\n      <td>7</td>\n      <td>cosine</td>\n      <td>0.823645</td>\n      <td>k_means</td>\n      <td>3</td>\n      <td>0.549104</td>\n    </tr>\n  </tbody>\n</table>\n</div>"
     },
     "execution_count": 11,
     "metadata": {},
     "output_type": "execute_result"
    }
   ],
   "source": [
    "latent_manifold_details = clustering.get_latent_manifold_details(clustering_results_df, best_index)\n",
    "latent_manifold_details"
   ]
  },
  {
   "cell_type": "markdown",
   "id": "65e96184b30218a6",
   "metadata": {
    "collapsed": false
   },
   "source": [
    "#### Merge cap_x_df and y_df for comparison"
   ]
  },
  {
   "cell_type": "code",
   "execution_count": 12,
   "id": "fa4ce7c970365d12",
   "metadata": {
    "collapsed": false,
    "ExecuteTime": {
     "end_time": "2024-04-22T03:47:38.764954Z",
     "start_time": "2024-04-22T03:47:38.599538Z"
    }
   },
   "outputs": [],
   "source": [
    "cap_x_df = pd.read_csv(TARGET_FILE_PATH)\n",
    "y_df = pd.read_csv(DESIGN_FILE_PATH)"
   ]
  },
  {
   "cell_type": "code",
   "execution_count": 13,
   "id": "d31c86b9fe5116d8",
   "metadata": {
    "collapsed": false,
    "ExecuteTime": {
     "end_time": "2024-04-22T03:47:38.765465Z",
     "start_time": "2024-04-22T03:47:38.656007Z"
    }
   },
   "outputs": [
    {
     "name": "stdout",
     "output_type": "stream",
     "text": [
      "(11678, 67)\n"
     ]
    },
    {
     "data": {
      "text/plain": "   id  target  muscle reading 1 sensor 1  muscle reading 1 sensor 2  \\\n0   0       0                       26.0                        4.0   \n1   1       0                      -47.0                       -6.0   \n2   2       0                      -19.0                       -8.0   \n3   3       0                        2.0                        3.0   \n4   4       0                        6.0                        0.0   \n\n   muscle reading 1 sensor 3  muscle reading 1 sensor 4  \\\n0                        5.0                        8.0   \n1                       -5.0                       -7.0   \n2                       -8.0                       -8.0   \n3                        0.0                        2.0   \n4                        0.0                       -2.0   \n\n   muscle reading 1 sensor 5  muscle reading 1 sensor 6  \\\n0                       -1.0                      -13.0   \n1                       13.0                       -1.0   \n2                      -21.0                       -6.0   \n3                        0.0                       22.0   \n4                      -14.0                       10.0   \n\n   muscle reading 1 sensor 7  muscle reading 1 sensor 8  ...  \\\n0                     -109.0                      -66.0  ...   \n1                       35.0                      -10.0  ...   \n2                      -79.0                       12.0  ...   \n3                      106.0                      -14.0  ...   \n4                      -51.0                        5.0  ...   \n\n   muscle reading 7 sensor 8  muscle reading 8 sensor 1  \\\n0                      -28.0                       61.0   \n1                      -25.0                       47.0   \n2                      -83.0                        7.0   \n3                      -38.0                      -11.0   \n4                       38.0                      -35.0   \n\n   muscle reading 8 sensor 2  muscle reading 8 sensor 3  \\\n0                        4.0                        8.0   \n1                        6.0                        6.0   \n2                        7.0                        1.0   \n3                        4.0                        7.0   \n4                       -8.0                        2.0   \n\n   muscle reading 8 sensor 4  muscle reading 8 sensor 5  \\\n0                        5.0                        4.0   \n1                        5.0                       13.0   \n2                       -8.0                        7.0   \n3                       11.0                       33.0   \n4                        6.0                      -13.0   \n\n   muscle reading 8 sensor 6  muscle reading 8 sensor 7  \\\n0                       -7.0                      -59.0   \n1                       21.0                      111.0   \n2                       21.0                      114.0   \n3                       39.0                      119.0   \n4                      -24.0                     -112.0   \n\n   muscle reading 8 sensor 8  pred_labels  \n0                       16.0            2  \n1                       15.0            2  \n2                       48.0            2  \n3                       43.0            2  \n4                      -69.0            2  \n\n[5 rows x 67 columns]",
      "text/html": "<div>\n<style scoped>\n    .dataframe tbody tr th:only-of-type {\n        vertical-align: middle;\n    }\n\n    .dataframe tbody tr th {\n        vertical-align: top;\n    }\n\n    .dataframe thead th {\n        text-align: right;\n    }\n</style>\n<table border=\"1\" class=\"dataframe\">\n  <thead>\n    <tr style=\"text-align: right;\">\n      <th></th>\n      <th>id</th>\n      <th>target</th>\n      <th>muscle reading 1 sensor 1</th>\n      <th>muscle reading 1 sensor 2</th>\n      <th>muscle reading 1 sensor 3</th>\n      <th>muscle reading 1 sensor 4</th>\n      <th>muscle reading 1 sensor 5</th>\n      <th>muscle reading 1 sensor 6</th>\n      <th>muscle reading 1 sensor 7</th>\n      <th>muscle reading 1 sensor 8</th>\n      <th>...</th>\n      <th>muscle reading 7 sensor 8</th>\n      <th>muscle reading 8 sensor 1</th>\n      <th>muscle reading 8 sensor 2</th>\n      <th>muscle reading 8 sensor 3</th>\n      <th>muscle reading 8 sensor 4</th>\n      <th>muscle reading 8 sensor 5</th>\n      <th>muscle reading 8 sensor 6</th>\n      <th>muscle reading 8 sensor 7</th>\n      <th>muscle reading 8 sensor 8</th>\n      <th>pred_labels</th>\n    </tr>\n  </thead>\n  <tbody>\n    <tr>\n      <th>0</th>\n      <td>0</td>\n      <td>0</td>\n      <td>26.0</td>\n      <td>4.0</td>\n      <td>5.0</td>\n      <td>8.0</td>\n      <td>-1.0</td>\n      <td>-13.0</td>\n      <td>-109.0</td>\n      <td>-66.0</td>\n      <td>...</td>\n      <td>-28.0</td>\n      <td>61.0</td>\n      <td>4.0</td>\n      <td>8.0</td>\n      <td>5.0</td>\n      <td>4.0</td>\n      <td>-7.0</td>\n      <td>-59.0</td>\n      <td>16.0</td>\n      <td>2</td>\n    </tr>\n    <tr>\n      <th>1</th>\n      <td>1</td>\n      <td>0</td>\n      <td>-47.0</td>\n      <td>-6.0</td>\n      <td>-5.0</td>\n      <td>-7.0</td>\n      <td>13.0</td>\n      <td>-1.0</td>\n      <td>35.0</td>\n      <td>-10.0</td>\n      <td>...</td>\n      <td>-25.0</td>\n      <td>47.0</td>\n      <td>6.0</td>\n      <td>6.0</td>\n      <td>5.0</td>\n      <td>13.0</td>\n      <td>21.0</td>\n      <td>111.0</td>\n      <td>15.0</td>\n      <td>2</td>\n    </tr>\n    <tr>\n      <th>2</th>\n      <td>2</td>\n      <td>0</td>\n      <td>-19.0</td>\n      <td>-8.0</td>\n      <td>-8.0</td>\n      <td>-8.0</td>\n      <td>-21.0</td>\n      <td>-6.0</td>\n      <td>-79.0</td>\n      <td>12.0</td>\n      <td>...</td>\n      <td>-83.0</td>\n      <td>7.0</td>\n      <td>7.0</td>\n      <td>1.0</td>\n      <td>-8.0</td>\n      <td>7.0</td>\n      <td>21.0</td>\n      <td>114.0</td>\n      <td>48.0</td>\n      <td>2</td>\n    </tr>\n    <tr>\n      <th>3</th>\n      <td>3</td>\n      <td>0</td>\n      <td>2.0</td>\n      <td>3.0</td>\n      <td>0.0</td>\n      <td>2.0</td>\n      <td>0.0</td>\n      <td>22.0</td>\n      <td>106.0</td>\n      <td>-14.0</td>\n      <td>...</td>\n      <td>-38.0</td>\n      <td>-11.0</td>\n      <td>4.0</td>\n      <td>7.0</td>\n      <td>11.0</td>\n      <td>33.0</td>\n      <td>39.0</td>\n      <td>119.0</td>\n      <td>43.0</td>\n      <td>2</td>\n    </tr>\n    <tr>\n      <th>4</th>\n      <td>4</td>\n      <td>0</td>\n      <td>6.0</td>\n      <td>0.0</td>\n      <td>0.0</td>\n      <td>-2.0</td>\n      <td>-14.0</td>\n      <td>10.0</td>\n      <td>-51.0</td>\n      <td>5.0</td>\n      <td>...</td>\n      <td>38.0</td>\n      <td>-35.0</td>\n      <td>-8.0</td>\n      <td>2.0</td>\n      <td>6.0</td>\n      <td>-13.0</td>\n      <td>-24.0</td>\n      <td>-112.0</td>\n      <td>-69.0</td>\n      <td>2</td>\n    </tr>\n  </tbody>\n</table>\n<p>5 rows × 67 columns</p>\n</div>"
     },
     "execution_count": 13,
     "metadata": {},
     "output_type": "execute_result"
    }
   ],
   "source": [
    "merged_df = pd.merge(cap_x_df, y_df, on='id', how='left')\n",
    "merged_df['pred_labels'] = clustering_results_df.loc[best_index, 'cluster_labels']\n",
    "merged_df.rename(columns={TARGET_ATTR: 'target'}, inplace=True)\n",
    "\n",
    "print(merged_df.shape)\n",
    "merged_df.head()"
   ]
  },
  {
   "cell_type": "markdown",
   "id": "80e207bb5c94655a",
   "metadata": {
    "collapsed": false
   },
   "source": [
    "#### Cluster validation using external indices"
   ]
  },
  {
   "cell_type": "code",
   "execution_count": 14,
   "id": "e54b09f6b7b7d97d",
   "metadata": {
    "collapsed": false,
    "ExecuteTime": {
     "end_time": "2024-04-22T03:47:38.765718Z",
     "start_time": "2024-04-22T03:47:38.671036Z"
    }
   },
   "outputs": [
    {
     "name": "stdout",
     "output_type": "stream",
     "text": [
      "rand_score:  0.6911573131695764\n",
      "adjusted_rand_score:  0.33577302521594804\n",
      "fowlkes_mallows_score:  0.5659413031876067\n",
      "normalized_mutual_info_score:  0.4364350210693582\n",
      "jaccard_score:  [0.02312382 0.00243161 0.01089439 0.        ]\n",
      "f1_score:  [0.04520238 0.00485143 0.02155397 0.        ]\n",
      "contingency_matrix:\n",
      " [[2419  220  271]\n",
      " [  23 2868   12]\n",
      " [  62 1149 1732]\n",
      " [ 306 2587   29]]\n",
      "purity_score:  0.6010446994348347\n"
     ]
    },
    {
     "data": {
      "text/plain": "   rand_score  adjusted_rand_score  fowlkes_mallows_score  \\\n0    0.691157             0.335773               0.565941   \n\n   normalized_mutual_info_score  \\\n0                      0.436435   \n\n                                       jaccard_score  \\\n0  [0.02312381753205802, 0.0024316109422492403, 0...   \n\n                                            f1_score  purity_score  \\\n0  [0.04520238339839737, 0.0048514251061249234, 0...      0.601045   \n\n                               best_perm_labels_pred  \\\n0  [0, 0, 0, 0, 0, 0, 0, 0, 0, 0, 0, 0, 0, 0, 0, ...   \n\n                             best_contingency_matrix non_noise_indices  \n0  [[2419, 220, 271], [23, 2868, 12], [62, 1149, ...              None  ",
      "text/html": "<div>\n<style scoped>\n    .dataframe tbody tr th:only-of-type {\n        vertical-align: middle;\n    }\n\n    .dataframe tbody tr th {\n        vertical-align: top;\n    }\n\n    .dataframe thead th {\n        text-align: right;\n    }\n</style>\n<table border=\"1\" class=\"dataframe\">\n  <thead>\n    <tr style=\"text-align: right;\">\n      <th></th>\n      <th>rand_score</th>\n      <th>adjusted_rand_score</th>\n      <th>fowlkes_mallows_score</th>\n      <th>normalized_mutual_info_score</th>\n      <th>jaccard_score</th>\n      <th>f1_score</th>\n      <th>purity_score</th>\n      <th>best_perm_labels_pred</th>\n      <th>best_contingency_matrix</th>\n      <th>non_noise_indices</th>\n    </tr>\n  </thead>\n  <tbody>\n    <tr>\n      <th>0</th>\n      <td>0.691157</td>\n      <td>0.335773</td>\n      <td>0.565941</td>\n      <td>0.436435</td>\n      <td>[0.02312381753205802, 0.0024316109422492403, 0...</td>\n      <td>[0.04520238339839737, 0.0048514251061249234, 0...</td>\n      <td>0.601045</td>\n      <td>[0, 0, 0, 0, 0, 0, 0, 0, 0, 0, 0, 0, 0, 0, 0, ...</td>\n      <td>[[2419, 220, 271], [23, 2868, 12], [62, 1149, ...</td>\n      <td>None</td>\n    </tr>\n  </tbody>\n</table>\n</div>"
     },
     "execution_count": 14,
     "metadata": {},
     "output_type": "execute_result"
    }
   ],
   "source": [
    "external_indices_df = validation.get_external_indices(\n",
    "    merged_df, \n",
    "    clustering_results_df.loc[best_index, 'algo']\n",
    ")\n",
    "external_indices_df"
   ]
  },
  {
   "cell_type": "code",
   "execution_count": 15,
   "outputs": [
    {
     "data": {
      "text/plain": "<Figure size 800x800 with 2 Axes>",
      "image/png": "[encoded data removed]"
     },
     "metadata": {},
     "output_type": "display_data"
    }
   ],
   "source": [
    "validation.plot_contingency_matrix(external_indices_df['best_contingency_matrix'].values[0])"
   ],
   "metadata": {
    "collapsed": false,
    "ExecuteTime": {
     "end_time": "2024-04-22T03:47:38.872257Z",
     "start_time": "2024-04-22T03:47:38.690718Z"
    }
   },
   "id": "c0ed11b3fa5fd9fc"
  },
  {
   "cell_type": "markdown",
   "id": "52f5e67bfccd62c0",
   "metadata": {
    "collapsed": false
   },
   "source": [
    "#### Time to run script"
   ]
  },
  {
   "cell_type": "code",
   "execution_count": 16,
   "id": "d78be4bec6223446",
   "metadata": {
    "collapsed": false,
    "ExecuteTime": {
     "end_time": "2024-04-22T03:47:38.872452Z",
     "start_time": "2024-04-22T03:47:38.803021Z"
    }
   },
   "outputs": [
    {
     "name": "stdout",
     "output_type": "stream",
     "text": [
      "script run time: 0.0070159673690795895 minutes\n"
     ]
    }
   ],
   "source": [
    "end = time.time()\n",
    "print(f'script run time: {(end - start)/60} minutes')"
   ]
  }
 ],
 "metadata": {
  "kernelspec": {
   "display_name": "Python 3 (ipykernel)",
   "language": "python",
   "name": "python3"
  },
  "language_info": {
   "codemirror_mode": {
    "name": "ipython",
    "version": 3
   },
   "file_extension": ".py",
   "mimetype": "text/x-python",
   "name": "python",
   "nbconvert_exporter": "python",
   "pygments_lexer": "ipython3",
   "version": "3.10.13"
  }
 },
 "nbformat": 4,
 "nbformat_minor": 5
}

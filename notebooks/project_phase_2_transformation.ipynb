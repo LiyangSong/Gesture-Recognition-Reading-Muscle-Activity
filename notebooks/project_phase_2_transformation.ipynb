{
 "cells": [
  {
   "cell_type": "markdown",
   "id": "76a8c039c988fd83",
   "metadata": {
    "collapsed": false
   },
   "source": [
    "## Project Phase 2 - Preprocessing Pipelines"
   ]
  },
  {
   "cell_type": "markdown",
   "id": "5af6d5cfca634962",
   "metadata": {
    "collapsed": false
   },
   "source": [
    "#### Import Modules"
   ]
  },
  {
   "cell_type": "code",
   "execution_count": 1,
   "id": "209f5edd8f79143c",
   "metadata": {
    "collapsed": false,
    "ExecuteTime": {
     "end_time": "2024-03-10T08:16:57.658150Z",
     "start_time": "2024-03-10T08:16:57.463201Z"
    }
   },
   "outputs": [],
   "source": [
    "from pathlib import Path\n",
    "import os\n",
    "import sys\n",
    "import time\n",
    "import warnings\n",
    "\n",
    "import pandas as pd\n",
    "import missingno as msno\n",
    "import matplotlib.pyplot as plt\n",
    "from sklearn.pipeline import Pipeline\n",
    "from sklearn.compose import ColumnTransformer\n",
    "from sklearn.preprocessing import StandardScaler, OneHotEncoder\n",
    "from sklearn.impute import SimpleImputer"
   ]
  },
  {
   "cell_type": "code",
   "execution_count": 2,
   "id": "6c297caf957fae8",
   "metadata": {
    "collapsed": false,
    "ExecuteTime": {
     "end_time": "2024-03-10T08:16:57.660992Z",
     "start_time": "2024-03-10T08:16:57.658579Z"
    }
   },
   "outputs": [
    {
     "name": "stdout",
     "output_type": "stream",
     "text": [
      "/Users/leon/Documents/Repos/Gesture-Recognition-Reading-Muscle-Activity\n"
     ]
    }
   ],
   "source": [
    "path = Path(os.getcwd())\n",
    "path = str(path)\n",
    "print(path)\n",
    "sys.path.insert(1, path)"
   ]
  },
  {
   "cell_type": "code",
   "execution_count": 3,
   "id": "3b8e1d882d24c62e",
   "metadata": {
    "collapsed": false,
    "ExecuteTime": {
     "end_time": "2024-03-10T08:16:57.666750Z",
     "start_time": "2024-03-10T08:16:57.661294Z"
    }
   },
   "outputs": [],
   "source": [
    "import utils.processing as processing\n",
    "import utils.general_utils as general"
   ]
  },
  {
   "cell_type": "markdown",
   "id": "1e7a50ad9a6e3b8a",
   "metadata": {
    "collapsed": false
   },
   "source": [
    "#### Set up to time script run time"
   ]
  },
  {
   "cell_type": "code",
   "execution_count": 4,
   "id": "7866e9e7e4c45c82",
   "metadata": {
    "collapsed": false,
    "ExecuteTime": {
     "end_time": "2024-03-10T08:16:57.675824Z",
     "start_time": "2024-03-10T08:16:57.666011Z"
    }
   },
   "outputs": [],
   "source": [
    "start = time.time()"
   ]
  },
  {
   "cell_type": "markdown",
   "id": "1a49d86efdb020e5",
   "metadata": {
    "collapsed": false
   },
   "source": [
    "#### Configuration"
   ]
  },
  {
   "cell_type": "code",
   "execution_count": 5,
   "id": "2ee8060e7bf39211",
   "metadata": {
    "collapsed": false,
    "ExecuteTime": {
     "end_time": "2024-03-10T08:16:57.676012Z",
     "start_time": "2024-03-10T08:16:57.672346Z"
    }
   },
   "outputs": [],
   "source": [
    "DESIGN_FILE_PATH = 'data/emg_design.csv'\n",
    "TARGET_ATTR = 'gesture class (0-3)'\n",
    "MISSING_THRESHOLD = 0.20\n",
    "RANDOM_STATE = 42"
   ]
  },
  {
   "cell_type": "code",
   "execution_count": 6,
   "outputs": [],
   "source": [
    "warnings.filterwarnings(\"ignore\", \"use_inf_as_na\")"
   ],
   "metadata": {
    "collapsed": false,
    "ExecuteTime": {
     "end_time": "2024-03-10T08:16:57.681658Z",
     "start_time": "2024-03-10T08:16:57.676882Z"
    }
   },
   "id": "60ea563323e3ef51"
  },
  {
   "cell_type": "markdown",
   "id": "24b789088b5fa038",
   "metadata": {
    "collapsed": false
   },
   "source": [
    "#### Import Data File"
   ]
  },
  {
   "cell_type": "code",
   "execution_count": 7,
   "id": "2cc5cdf24260e931",
   "metadata": {
    "collapsed": false,
    "ExecuteTime": {
     "end_time": "2024-03-10T08:16:57.738172Z",
     "start_time": "2024-03-10T08:16:57.679371Z"
    }
   },
   "outputs": [
    {
     "name": "stdout",
     "output_type": "stream",
     "text": [
      "(11678, 65)\n"
     ]
    },
    {
     "data": {
      "text/plain": "   id  muscle reading 1 sensor 1  muscle reading 1 sensor 2  \\\n0   0                       26.0                        4.0   \n1   1                      -47.0                       -6.0   \n2   2                      -19.0                       -8.0   \n3   3                        2.0                        3.0   \n4   4                        6.0                        0.0   \n\n   muscle reading 1 sensor 3  muscle reading 1 sensor 4  \\\n0                        5.0                        8.0   \n1                       -5.0                       -7.0   \n2                       -8.0                       -8.0   \n3                        0.0                        2.0   \n4                        0.0                       -2.0   \n\n   muscle reading 1 sensor 5  muscle reading 1 sensor 6  \\\n0                       -1.0                      -13.0   \n1                       13.0                       -1.0   \n2                      -21.0                       -6.0   \n3                        0.0                       22.0   \n4                      -14.0                       10.0   \n\n   muscle reading 1 sensor 7  muscle reading 1 sensor 8  \\\n0                     -109.0                      -66.0   \n1                       35.0                      -10.0   \n2                      -79.0                       12.0   \n3                      106.0                      -14.0   \n4                      -51.0                        5.0   \n\n   muscle reading 2 sensor 1  ...  muscle reading 7 sensor 7  \\\n0                       -9.0  ...                       21.0   \n1                       10.0  ...                     -105.0   \n2                        0.0  ...                     -128.0   \n3                      -16.0  ...                      -54.0   \n4                        7.0  ...                       60.0   \n\n   muscle reading 7 sensor 8  muscle reading 8 sensor 1  \\\n0                      -28.0                       61.0   \n1                      -25.0                       47.0   \n2                      -83.0                        7.0   \n3                      -38.0                      -11.0   \n4                       38.0                      -35.0   \n\n   muscle reading 8 sensor 2  muscle reading 8 sensor 3  \\\n0                        4.0                        8.0   \n1                        6.0                        6.0   \n2                        7.0                        1.0   \n3                        4.0                        7.0   \n4                       -8.0                        2.0   \n\n   muscle reading 8 sensor 4  muscle reading 8 sensor 5  \\\n0                        5.0                        4.0   \n1                        5.0                       13.0   \n2                       -8.0                        7.0   \n3                       11.0                       33.0   \n4                        6.0                      -13.0   \n\n   muscle reading 8 sensor 6  muscle reading 8 sensor 7  \\\n0                       -7.0                      -59.0   \n1                       21.0                      111.0   \n2                       21.0                      114.0   \n3                       39.0                      119.0   \n4                      -24.0                     -112.0   \n\n   muscle reading 8 sensor 8  \n0                       16.0  \n1                       15.0  \n2                       48.0  \n3                       43.0  \n4                      -69.0  \n\n[5 rows x 65 columns]",
      "text/html": "<div>\n<style scoped>\n    .dataframe tbody tr th:only-of-type {\n        vertical-align: middle;\n    }\n\n    .dataframe tbody tr th {\n        vertical-align: top;\n    }\n\n    .dataframe thead th {\n        text-align: right;\n    }\n</style>\n<table border=\"1\" class=\"dataframe\">\n  <thead>\n    <tr style=\"text-align: right;\">\n      <th></th>\n      <th>id</th>\n      <th>muscle reading 1 sensor 1</th>\n      <th>muscle reading 1 sensor 2</th>\n      <th>muscle reading 1 sensor 3</th>\n      <th>muscle reading 1 sensor 4</th>\n      <th>muscle reading 1 sensor 5</th>\n      <th>muscle reading 1 sensor 6</th>\n      <th>muscle reading 1 sensor 7</th>\n      <th>muscle reading 1 sensor 8</th>\n      <th>muscle reading 2 sensor 1</th>\n      <th>...</th>\n      <th>muscle reading 7 sensor 7</th>\n      <th>muscle reading 7 sensor 8</th>\n      <th>muscle reading 8 sensor 1</th>\n      <th>muscle reading 8 sensor 2</th>\n      <th>muscle reading 8 sensor 3</th>\n      <th>muscle reading 8 sensor 4</th>\n      <th>muscle reading 8 sensor 5</th>\n      <th>muscle reading 8 sensor 6</th>\n      <th>muscle reading 8 sensor 7</th>\n      <th>muscle reading 8 sensor 8</th>\n    </tr>\n  </thead>\n  <tbody>\n    <tr>\n      <th>0</th>\n      <td>0</td>\n      <td>26.0</td>\n      <td>4.0</td>\n      <td>5.0</td>\n      <td>8.0</td>\n      <td>-1.0</td>\n      <td>-13.0</td>\n      <td>-109.0</td>\n      <td>-66.0</td>\n      <td>-9.0</td>\n      <td>...</td>\n      <td>21.0</td>\n      <td>-28.0</td>\n      <td>61.0</td>\n      <td>4.0</td>\n      <td>8.0</td>\n      <td>5.0</td>\n      <td>4.0</td>\n      <td>-7.0</td>\n      <td>-59.0</td>\n      <td>16.0</td>\n    </tr>\n    <tr>\n      <th>1</th>\n      <td>1</td>\n      <td>-47.0</td>\n      <td>-6.0</td>\n      <td>-5.0</td>\n      <td>-7.0</td>\n      <td>13.0</td>\n      <td>-1.0</td>\n      <td>35.0</td>\n      <td>-10.0</td>\n      <td>10.0</td>\n      <td>...</td>\n      <td>-105.0</td>\n      <td>-25.0</td>\n      <td>47.0</td>\n      <td>6.0</td>\n      <td>6.0</td>\n      <td>5.0</td>\n      <td>13.0</td>\n      <td>21.0</td>\n      <td>111.0</td>\n      <td>15.0</td>\n    </tr>\n    <tr>\n      <th>2</th>\n      <td>2</td>\n      <td>-19.0</td>\n      <td>-8.0</td>\n      <td>-8.0</td>\n      <td>-8.0</td>\n      <td>-21.0</td>\n      <td>-6.0</td>\n      <td>-79.0</td>\n      <td>12.0</td>\n      <td>0.0</td>\n      <td>...</td>\n      <td>-128.0</td>\n      <td>-83.0</td>\n      <td>7.0</td>\n      <td>7.0</td>\n      <td>1.0</td>\n      <td>-8.0</td>\n      <td>7.0</td>\n      <td>21.0</td>\n      <td>114.0</td>\n      <td>48.0</td>\n    </tr>\n    <tr>\n      <th>3</th>\n      <td>3</td>\n      <td>2.0</td>\n      <td>3.0</td>\n      <td>0.0</td>\n      <td>2.0</td>\n      <td>0.0</td>\n      <td>22.0</td>\n      <td>106.0</td>\n      <td>-14.0</td>\n      <td>-16.0</td>\n      <td>...</td>\n      <td>-54.0</td>\n      <td>-38.0</td>\n      <td>-11.0</td>\n      <td>4.0</td>\n      <td>7.0</td>\n      <td>11.0</td>\n      <td>33.0</td>\n      <td>39.0</td>\n      <td>119.0</td>\n      <td>43.0</td>\n    </tr>\n    <tr>\n      <th>4</th>\n      <td>4</td>\n      <td>6.0</td>\n      <td>0.0</td>\n      <td>0.0</td>\n      <td>-2.0</td>\n      <td>-14.0</td>\n      <td>10.0</td>\n      <td>-51.0</td>\n      <td>5.0</td>\n      <td>7.0</td>\n      <td>...</td>\n      <td>60.0</td>\n      <td>38.0</td>\n      <td>-35.0</td>\n      <td>-8.0</td>\n      <td>2.0</td>\n      <td>6.0</td>\n      <td>-13.0</td>\n      <td>-24.0</td>\n      <td>-112.0</td>\n      <td>-69.0</td>\n    </tr>\n  </tbody>\n</table>\n<p>5 rows × 65 columns</p>\n</div>"
     },
     "execution_count": 7,
     "metadata": {},
     "output_type": "execute_result"
    }
   ],
   "source": [
    "df = pd.read_csv(DESIGN_FILE_PATH)\n",
    "print(df.shape)\n",
    "df.head()"
   ]
  },
  {
   "cell_type": "markdown",
   "id": "b0d0d84ad2d40798",
   "metadata": {
    "collapsed": false
   },
   "source": [
    "#### A. Identify attributes with missing value count greater than a predefined threshold.\n"
   ]
  },
  {
   "cell_type": "code",
   "execution_count": 8,
   "id": "81bf25c229212266",
   "metadata": {
    "collapsed": false,
    "ExecuteTime": {
     "end_time": "2024-03-10T08:16:57.746283Z",
     "start_time": "2024-03-10T08:16:57.738315Z"
    }
   },
   "outputs": [
    {
     "data": {
      "text/plain": "[]"
     },
     "execution_count": 8,
     "metadata": {},
     "output_type": "execute_result"
    }
   ],
   "source": [
    "missing_attrs = processing.identify_missing_attrs(df, missing_threshold=MISSING_THRESHOLD)\n",
    "missing_attrs"
   ]
  },
  {
   "cell_type": "markdown",
   "id": "3949670bb867d66b",
   "metadata": {
    "collapsed": false
   },
   "source": [
    "#### B. Identify non-machinelearning attributes."
   ]
  },
  {
   "cell_type": "code",
   "execution_count": 9,
   "id": "371ecc3c3b28eba2",
   "metadata": {
    "collapsed": false,
    "ExecuteTime": {
     "end_time": "2024-03-10T08:16:57.810251Z",
     "start_time": "2024-03-10T08:16:57.750755Z"
    }
   },
   "outputs": [
    {
     "name": "stdout",
     "output_type": "stream",
     "text": [
      "the data frame has 11678 rows\n",
      "\n",
      "id has 11678 unique values and is dtype int64 examine more closely\n",
      "muscle reading 1 sensor 1 has 191 unique values and is dtype float64 \n",
      "muscle reading 1 sensor 2 has 154 unique values and is dtype float64 \n",
      "muscle reading 1 sensor 3 has 61 unique values and is dtype float64 \n",
      "muscle reading 1 sensor 4 has 102 unique values and is dtype float64 \n",
      "muscle reading 1 sensor 5 has 161 unique values and is dtype float64 \n",
      "muscle reading 1 sensor 6 has 213 unique values and is dtype float64 \n",
      "muscle reading 1 sensor 7 has 246 unique values and is dtype float64 \n",
      "muscle reading 1 sensor 8 has 177 unique values and is dtype float64 \n",
      "muscle reading 2 sensor 1 has 184 unique values and is dtype float64 \n",
      "muscle reading 2 sensor 2 has 149 unique values and is dtype float64 \n",
      "muscle reading 2 sensor 3 has 62 unique values and is dtype float64 \n",
      "muscle reading 2 sensor 4 has 97 unique values and is dtype float64 \n",
      "muscle reading 2 sensor 5 has 159 unique values and is dtype float64 \n",
      "muscle reading 2 sensor 6 has 211 unique values and is dtype float64 \n",
      "muscle reading 2 sensor 7 has 245 unique values and is dtype float64 \n",
      "muscle reading 2 sensor 8 has 176 unique values and is dtype float64 \n",
      "muscle reading 3 sensor 1 has 187 unique values and is dtype float64 \n",
      "muscle reading 3 sensor 2 has 154 unique values and is dtype float64 \n",
      "muscle reading 3 sensor 3 has 59 unique values and is dtype float64 \n",
      "muscle reading 3 sensor 4 has 95 unique values and is dtype float64 \n",
      "muscle reading 3 sensor 5 has 162 unique values and is dtype float64 \n",
      "muscle reading 3 sensor 6 has 213 unique values and is dtype float64 \n",
      "muscle reading 3 sensor 7 has 249 unique values and is dtype float64 \n",
      "muscle reading 3 sensor 8 has 178 unique values and is dtype float64 \n",
      "muscle reading 4 sensor 1 has 184 unique values and is dtype float64 \n",
      "muscle reading 4 sensor 2 has 157 unique values and is dtype float64 \n",
      "muscle reading 4 sensor 3 has 59 unique values and is dtype float64 \n",
      "muscle reading 4 sensor 4 has 99 unique values and is dtype float64 \n",
      "muscle reading 4 sensor 5 has 166 unique values and is dtype float64 \n",
      "muscle reading 4 sensor 6 has 219 unique values and is dtype float64 \n",
      "muscle reading 4 sensor 7 has 249 unique values and is dtype float64 \n",
      "muscle reading 4 sensor 8 has 182 unique values and is dtype float64 \n",
      "muscle reading 5 sensor 1 has 183 unique values and is dtype float64 \n",
      "muscle reading 5 sensor 2 has 152 unique values and is dtype float64 \n",
      "muscle reading 5 sensor 3 has 61 unique values and is dtype float64 \n",
      "muscle reading 5 sensor 4 has 98 unique values and is dtype float64 \n",
      "muscle reading 5 sensor 5 has 160 unique values and is dtype float64 \n",
      "muscle reading 5 sensor 6 has 215 unique values and is dtype float64 \n",
      "muscle reading 5 sensor 7 has 250 unique values and is dtype float64 \n",
      "muscle reading 5 sensor 8 has 184 unique values and is dtype float64 \n",
      "muscle reading 6 sensor 1 has 186 unique values and is dtype float64 \n",
      "muscle reading 6 sensor 2 has 158 unique values and is dtype float64 \n",
      "muscle reading 6 sensor 3 has 62 unique values and is dtype float64 \n",
      "muscle reading 6 sensor 4 has 95 unique values and is dtype float64 \n",
      "muscle reading 6 sensor 5 has 166 unique values and is dtype float64 \n",
      "muscle reading 6 sensor 6 has 221 unique values and is dtype float64 \n",
      "muscle reading 6 sensor 7 has 248 unique values and is dtype float64 \n",
      "muscle reading 6 sensor 8 has 179 unique values and is dtype float64 \n",
      "muscle reading 7 sensor 1 has 185 unique values and is dtype float64 \n",
      "muscle reading 7 sensor 2 has 148 unique values and is dtype float64 \n",
      "muscle reading 7 sensor 3 has 62 unique values and is dtype float64 \n",
      "muscle reading 7 sensor 4 has 98 unique values and is dtype float64 \n",
      "muscle reading 7 sensor 5 has 169 unique values and is dtype float64 \n",
      "muscle reading 7 sensor 6 has 221 unique values and is dtype float64 \n",
      "muscle reading 7 sensor 7 has 251 unique values and is dtype float64 \n",
      "muscle reading 7 sensor 8 has 176 unique values and is dtype float64 \n",
      "muscle reading 8 sensor 1 has 189 unique values and is dtype float64 \n",
      "muscle reading 8 sensor 2 has 152 unique values and is dtype float64 \n",
      "muscle reading 8 sensor 3 has 62 unique values and is dtype float64 \n",
      "muscle reading 8 sensor 4 has 96 unique values and is dtype float64 \n",
      "muscle reading 8 sensor 5 has 165 unique values and is dtype float64 \n",
      "muscle reading 8 sensor 6 has 215 unique values and is dtype float64 \n",
      "muscle reading 8 sensor 7 has 249 unique values and is dtype float64 \n",
      "muscle reading 8 sensor 8 has 184 unique values and is dtype float64 \n"
     ]
    },
    {
     "data": {
      "text/plain": "['id']"
     },
     "execution_count": 9,
     "metadata": {},
     "output_type": "execute_result"
    }
   ],
   "source": [
    "concern_list = general.check_for_complete_unique_attrs(df)\n",
    "concern_list"
   ]
  },
  {
   "cell_type": "code",
   "execution_count": 10,
   "id": "5264affdc8d74618",
   "metadata": {
    "collapsed": false,
    "ExecuteTime": {
     "end_time": "2024-03-10T08:16:57.810627Z",
     "start_time": "2024-03-10T08:16:57.765497Z"
    }
   },
   "outputs": [],
   "source": [
    "non_ml_attrs = ['id']"
   ]
  },
  {
   "cell_type": "markdown",
   "id": "225a6c8c9806e002",
   "metadata": {
    "collapsed": false
   },
   "source": [
    "#### C. Identify attributes to drop from machine learning."
   ]
  },
  {
   "cell_type": "code",
   "execution_count": 11,
   "id": "6a46ce7dce2ee8c4",
   "metadata": {
    "collapsed": false,
    "ExecuteTime": {
     "end_time": "2024-03-10T08:16:57.810694Z",
     "start_time": "2024-03-10T08:16:57.768343Z"
    }
   },
   "outputs": [],
   "source": [
    "ml_drop_attrs = []"
   ]
  },
  {
   "cell_type": "markdown",
   "id": "9e456ed64bd1a5d0",
   "metadata": {
    "collapsed": false
   },
   "source": [
    "#### D. Establish numerical and nominal attributes."
   ]
  },
  {
   "cell_type": "code",
   "execution_count": 12,
   "id": "58c5169387263f4a",
   "metadata": {
    "collapsed": false,
    "ExecuteTime": {
     "end_time": "2024-03-10T08:16:57.810802Z",
     "start_time": "2024-03-10T08:16:57.770868Z"
    }
   },
   "outputs": [
    {
     "name": "stdout",
     "output_type": "stream",
     "text": [
      "numerical_attrs:  ['id', 'muscle reading 1 sensor 1', 'muscle reading 1 sensor 2', 'muscle reading 1 sensor 3', 'muscle reading 1 sensor 4', 'muscle reading 1 sensor 5', 'muscle reading 1 sensor 6', 'muscle reading 1 sensor 7', 'muscle reading 1 sensor 8', 'muscle reading 2 sensor 1', 'muscle reading 2 sensor 2', 'muscle reading 2 sensor 3', 'muscle reading 2 sensor 4', 'muscle reading 2 sensor 5', 'muscle reading 2 sensor 6', 'muscle reading 2 sensor 7', 'muscle reading 2 sensor 8', 'muscle reading 3 sensor 1', 'muscle reading 3 sensor 2', 'muscle reading 3 sensor 3', 'muscle reading 3 sensor 4', 'muscle reading 3 sensor 5', 'muscle reading 3 sensor 6', 'muscle reading 3 sensor 7', 'muscle reading 3 sensor 8', 'muscle reading 4 sensor 1', 'muscle reading 4 sensor 2', 'muscle reading 4 sensor 3', 'muscle reading 4 sensor 4', 'muscle reading 4 sensor 5', 'muscle reading 4 sensor 6', 'muscle reading 4 sensor 7', 'muscle reading 4 sensor 8', 'muscle reading 5 sensor 1', 'muscle reading 5 sensor 2', 'muscle reading 5 sensor 3', 'muscle reading 5 sensor 4', 'muscle reading 5 sensor 5', 'muscle reading 5 sensor 6', 'muscle reading 5 sensor 7', 'muscle reading 5 sensor 8', 'muscle reading 6 sensor 1', 'muscle reading 6 sensor 2', 'muscle reading 6 sensor 3', 'muscle reading 6 sensor 4', 'muscle reading 6 sensor 5', 'muscle reading 6 sensor 6', 'muscle reading 6 sensor 7', 'muscle reading 6 sensor 8', 'muscle reading 7 sensor 1', 'muscle reading 7 sensor 2', 'muscle reading 7 sensor 3', 'muscle reading 7 sensor 4', 'muscle reading 7 sensor 5', 'muscle reading 7 sensor 6', 'muscle reading 7 sensor 7', 'muscle reading 7 sensor 8', 'muscle reading 8 sensor 1', 'muscle reading 8 sensor 2', 'muscle reading 8 sensor 3', 'muscle reading 8 sensor 4', 'muscle reading 8 sensor 5', 'muscle reading 8 sensor 6', 'muscle reading 8 sensor 7', 'muscle reading 8 sensor 8']\n",
      "nominal_attrs:  []\n"
     ]
    }
   ],
   "source": [
    "numerical_attrs, nominal_attrs = processing.split_numerical_nominal(df)\n",
    "print(\"numerical_attrs: \", numerical_attrs)\n",
    "print(\"nominal_attrs: \", nominal_attrs)"
   ]
  },
  {
   "cell_type": "markdown",
   "id": "10e21bd3b6315e02",
   "metadata": {
    "collapsed": false
   },
   "source": [
    "#### E. Establish machine learning attribute configuration using the A, B and C."
   ]
  },
  {
   "cell_type": "code",
   "execution_count": 13,
   "id": "ee8d5d3a6c53f34f",
   "metadata": {
    "collapsed": false,
    "ExecuteTime": {
     "end_time": "2024-03-10T08:16:57.810904Z",
     "start_time": "2024-03-10T08:16:57.776175Z"
    }
   },
   "outputs": [
    {
     "name": "stdout",
     "output_type": "stream",
     "text": [
      "\n",
      "ml_ignore_list: ['id']\n"
     ]
    }
   ],
   "source": [
    "ml_ignore_list = missing_attrs + non_ml_attrs + ml_drop_attrs\n",
    "print(f'\\nml_ignore_list: {ml_ignore_list}')\n",
    "\n",
    "numerical_attrs = [attr for attr in numerical_attrs if attr not in ml_ignore_list]\n",
    "nominal_attrs = [attr for attr in nominal_attrs if attr not in ml_ignore_list]\n",
    "\n",
    "assert(df.shape[1] == len(ml_ignore_list) + len(numerical_attrs) + len(nominal_attrs))"
   ]
  },
  {
   "cell_type": "markdown",
   "id": "1f3c33180a32fa97",
   "metadata": {
    "collapsed": false
   },
   "source": [
    "#### F. Check out the missingness of the machine learning attributes."
   ]
  },
  {
   "cell_type": "code",
   "execution_count": 14,
   "id": "355b949d77e3d01d",
   "metadata": {
    "collapsed": false,
    "ExecuteTime": {
     "end_time": "2024-03-10T08:16:58.222417Z",
     "start_time": "2024-03-10T08:16:57.778711Z"
    }
   },
   "outputs": [
    {
     "data": {
      "text/plain": "<Figure size 2500x1000 with 2 Axes>",
      "image/png": "[encoded data removed]"
     },
     "metadata": {},
     "output_type": "display_data"
    }
   ],
   "source": [
    "msno.matrix(df[numerical_attrs + nominal_attrs])\n",
    "plt.show()"
   ]
  },
  {
   "cell_type": "markdown",
   "id": "611e157779614cf6",
   "metadata": {
    "collapsed": false
   },
   "source": [
    "#### G. Checkout the types of the machine learning attributes."
   ]
  },
  {
   "cell_type": "code",
   "execution_count": 15,
   "id": "36f82e4bf92567a2",
   "metadata": {
    "collapsed": false,
    "ExecuteTime": {
     "end_time": "2024-03-10T08:16:58.222627Z",
     "start_time": "2024-03-10T08:16:58.123802Z"
    }
   },
   "outputs": [
    {
     "data": {
      "text/plain": "muscle reading 1 sensor 1    float64\nmuscle reading 1 sensor 2    float64\nmuscle reading 1 sensor 3    float64\nmuscle reading 1 sensor 4    float64\nmuscle reading 1 sensor 5    float64\n                              ...   \nmuscle reading 8 sensor 4    float64\nmuscle reading 8 sensor 5    float64\nmuscle reading 8 sensor 6    float64\nmuscle reading 8 sensor 7    float64\nmuscle reading 8 sensor 8    float64\nLength: 64, dtype: object"
     },
     "execution_count": 15,
     "metadata": {},
     "output_type": "execute_result"
    }
   ],
   "source": [
    "df[numerical_attrs + nominal_attrs].dtypes"
   ]
  },
  {
   "cell_type": "markdown",
   "source": [
    "#### H. Use Scikit-Learn pipelines and a column transformer to build a preprocessing pipeline that will complete the following:\n",
    "- impute missing values\n",
    "- transform nominal attributes\n",
    "- scale the attributes\n"
   ],
   "metadata": {
    "collapsed": false
   },
   "id": "b3d01f29b8b5cf0a"
  },
  {
   "cell_type": "code",
   "execution_count": 16,
   "outputs": [
    {
     "data": {
      "text/plain": "ColumnTransformer(transformers=[('numerical',\n                                 Pipeline(steps=[('simple_imputer',\n                                                  SimpleImputer()),\n                                                 ('standard_scaler',\n                                                  StandardScaler())]),\n                                 ['muscle reading 1 sensor 1',\n                                  'muscle reading 1 sensor 2',\n                                  'muscle reading 1 sensor 3',\n                                  'muscle reading 1 sensor 4',\n                                  'muscle reading 1 sensor 5',\n                                  'muscle reading 1 sensor 6',\n                                  'muscle reading 1 sensor 7',\n                                  'muscle reading 1 sensor 8',\n                                  'muscle reading 2 sensor 1...\n                                  'muscle reading 3 sensor 7',\n                                  'muscle reading 3 sensor 8',\n                                  'muscle reading 4 sensor 1',\n                                  'muscle reading 4 sensor 2',\n                                  'muscle reading 4 sensor 3',\n                                  'muscle reading 4 sensor 4',\n                                  'muscle reading 4 sensor 5',\n                                  'muscle reading 4 sensor 6', ...]),\n                                ('nominal',\n                                 Pipeline(steps=[('simple_imputer',\n                                                  SimpleImputer(strategy='most_frequent')),\n                                                 ('oneHot_encoder',\n                                                  OneHotEncoder()),\n                                                 ('standard_scaler',\n                                                  StandardScaler())]),\n                                 [])])",
      "text/html": "<style>#sk-container-id-1 {color: black;}#sk-container-id-1 pre{padding: 0;}#sk-container-id-1 div.sk-toggleable {background-color: white;}#sk-container-id-1 label.sk-toggleable__label {cursor: pointer;display: block;width: 100%;margin-bottom: 0;padding: 0.3em;box-sizing: border-box;text-align: center;}#sk-container-id-1 label.sk-toggleable__label-arrow:before {content: \"▸\";float: left;margin-right: 0.25em;color: #696969;}#sk-container-id-1 label.sk-toggleable__label-arrow:hover:before {color: black;}#sk-container-id-1 div.sk-estimator:hover label.sk-toggleable__label-arrow:before {color: black;}#sk-container-id-1 div.sk-toggleable__content {max-height: 0;max-width: 0;overflow: hidden;text-align: left;background-color: #f0f8ff;}#sk-container-id-1 div.sk-toggleable__content pre {margin: 0.2em;color: black;border-radius: 0.25em;background-color: #f0f8ff;}#sk-container-id-1 input.sk-toggleable__control:checked~div.sk-toggleable__content {max-height: 200px;max-width: 100%;overflow: auto;}#sk-container-id-1 input.sk-toggleable__control:checked~label.sk-toggleable__label-arrow:before {content: \"▾\";}#sk-container-id-1 div.sk-estimator input.sk-toggleable__control:checked~label.sk-toggleable__label {background-color: #d4ebff;}#sk-container-id-1 div.sk-label input.sk-toggleable__control:checked~label.sk-toggleable__label {background-color: #d4ebff;}#sk-container-id-1 input.sk-hidden--visually {border: 0;clip: rect(1px 1px 1px 1px);clip: rect(1px, 1px, 1px, 1px);height: 1px;margin: -1px;overflow: hidden;padding: 0;position: absolute;width: 1px;}#sk-container-id-1 div.sk-estimator {font-family: monospace;background-color: #f0f8ff;border: 1px dotted black;border-radius: 0.25em;box-sizing: border-box;margin-bottom: 0.5em;}#sk-container-id-1 div.sk-estimator:hover {background-color: #d4ebff;}#sk-container-id-1 div.sk-parallel-item::after {content: \"\";width: 100%;border-bottom: 1px solid gray;flex-grow: 1;}#sk-container-id-1 div.sk-label:hover label.sk-toggleable__label {background-color: #d4ebff;}#sk-container-id-1 div.sk-serial::before {content: \"\";position: absolute;border-left: 1px solid gray;box-sizing: border-box;top: 0;bottom: 0;left: 50%;z-index: 0;}#sk-container-id-1 div.sk-serial {display: flex;flex-direction: column;align-items: center;background-color: white;padding-right: 0.2em;padding-left: 0.2em;position: relative;}#sk-container-id-1 div.sk-item {position: relative;z-index: 1;}#sk-container-id-1 div.sk-parallel {display: flex;align-items: stretch;justify-content: center;background-color: white;position: relative;}#sk-container-id-1 div.sk-item::before, #sk-container-id-1 div.sk-parallel-item::before {content: \"\";position: absolute;border-left: 1px solid gray;box-sizing: border-box;top: 0;bottom: 0;left: 50%;z-index: -1;}#sk-container-id-1 div.sk-parallel-item {display: flex;flex-direction: column;z-index: 1;position: relative;background-color: white;}#sk-container-id-1 div.sk-parallel-item:first-child::after {align-self: flex-end;width: 50%;}#sk-container-id-1 div.sk-parallel-item:last-child::after {align-self: flex-start;width: 50%;}#sk-container-id-1 div.sk-parallel-item:only-child::after {width: 0;}#sk-container-id-1 div.sk-dashed-wrapped {border: 1px dashed gray;margin: 0 0.4em 0.5em 0.4em;box-sizing: border-box;padding-bottom: 0.4em;background-color: white;}#sk-container-id-1 div.sk-label label {font-family: monospace;font-weight: bold;display: inline-block;line-height: 1.2em;}#sk-container-id-1 div.sk-label-container {text-align: center;}#sk-container-id-1 div.sk-container {/* jupyter's `normalize.less` sets `[hidden] { display: none; }` but bootstrap.min.css set `[hidden] { display: none !important; }` so we also need the `!important` here to be able to override the default hidden behavior on the sphinx rendered scikit-learn.org. See: https://github.com/scikit-learn/scikit-learn/issues/21755 */display: inline-block !important;position: relative;}#sk-container-id-1 div.sk-text-repr-fallback {display: none;}</style><div id=\"sk-container-id-1\" class=\"sk-top-container\"><div class=\"sk-text-repr-fallback\"><pre>ColumnTransformer(transformers=[(&#x27;numerical&#x27;,\n                                 Pipeline(steps=[(&#x27;simple_imputer&#x27;,\n                                                  SimpleImputer()),\n                                                 (&#x27;standard_scaler&#x27;,\n                                                  StandardScaler())]),\n                                 [&#x27;muscle reading 1 sensor 1&#x27;,\n                                  &#x27;muscle reading 1 sensor 2&#x27;,\n                                  &#x27;muscle reading 1 sensor 3&#x27;,\n                                  &#x27;muscle reading 1 sensor 4&#x27;,\n                                  &#x27;muscle reading 1 sensor 5&#x27;,\n                                  &#x27;muscle reading 1 sensor 6&#x27;,\n                                  &#x27;muscle reading 1 sensor 7&#x27;,\n                                  &#x27;muscle reading 1 sensor 8&#x27;,\n                                  &#x27;muscle reading 2 sensor 1...\n                                  &#x27;muscle reading 3 sensor 7&#x27;,\n                                  &#x27;muscle reading 3 sensor 8&#x27;,\n                                  &#x27;muscle reading 4 sensor 1&#x27;,\n                                  &#x27;muscle reading 4 sensor 2&#x27;,\n                                  &#x27;muscle reading 4 sensor 3&#x27;,\n                                  &#x27;muscle reading 4 sensor 4&#x27;,\n                                  &#x27;muscle reading 4 sensor 5&#x27;,\n                                  &#x27;muscle reading 4 sensor 6&#x27;, ...]),\n                                (&#x27;nominal&#x27;,\n                                 Pipeline(steps=[(&#x27;simple_imputer&#x27;,\n                                                  SimpleImputer(strategy=&#x27;most_frequent&#x27;)),\n                                                 (&#x27;oneHot_encoder&#x27;,\n                                                  OneHotEncoder()),\n                                                 (&#x27;standard_scaler&#x27;,\n                                                  StandardScaler())]),\n                                 [])])</pre><b>In a Jupyter environment, please rerun this cell to show the HTML representation or trust the notebook. <br />On GitHub, the HTML representation is unable to render, please try loading this page with nbviewer.org.</b></div><div class=\"sk-container\" hidden><div class=\"sk-item sk-dashed-wrapped\"><div class=\"sk-label-container\"><div class=\"sk-label sk-toggleable\"><input class=\"sk-toggleable__control sk-hidden--visually\" id=\"sk-estimator-id-1\" type=\"checkbox\" ><label for=\"sk-estimator-id-1\" class=\"sk-toggleable__label sk-toggleable__label-arrow\">ColumnTransformer</label><div class=\"sk-toggleable__content\"><pre>ColumnTransformer(transformers=[(&#x27;numerical&#x27;,\n                                 Pipeline(steps=[(&#x27;simple_imputer&#x27;,\n                                                  SimpleImputer()),\n                                                 (&#x27;standard_scaler&#x27;,\n                                                  StandardScaler())]),\n                                 [&#x27;muscle reading 1 sensor 1&#x27;,\n                                  &#x27;muscle reading 1 sensor 2&#x27;,\n                                  &#x27;muscle reading 1 sensor 3&#x27;,\n                                  &#x27;muscle reading 1 sensor 4&#x27;,\n                                  &#x27;muscle reading 1 sensor 5&#x27;,\n                                  &#x27;muscle reading 1 sensor 6&#x27;,\n                                  &#x27;muscle reading 1 sensor 7&#x27;,\n                                  &#x27;muscle reading 1 sensor 8&#x27;,\n                                  &#x27;muscle reading 2 sensor 1...\n                                  &#x27;muscle reading 3 sensor 7&#x27;,\n                                  &#x27;muscle reading 3 sensor 8&#x27;,\n                                  &#x27;muscle reading 4 sensor 1&#x27;,\n                                  &#x27;muscle reading 4 sensor 2&#x27;,\n                                  &#x27;muscle reading 4 sensor 3&#x27;,\n                                  &#x27;muscle reading 4 sensor 4&#x27;,\n                                  &#x27;muscle reading 4 sensor 5&#x27;,\n                                  &#x27;muscle reading 4 sensor 6&#x27;, ...]),\n                                (&#x27;nominal&#x27;,\n                                 Pipeline(steps=[(&#x27;simple_imputer&#x27;,\n                                                  SimpleImputer(strategy=&#x27;most_frequent&#x27;)),\n                                                 (&#x27;oneHot_encoder&#x27;,\n                                                  OneHotEncoder()),\n                                                 (&#x27;standard_scaler&#x27;,\n                                                  StandardScaler())]),\n                                 [])])</pre></div></div></div><div class=\"sk-parallel\"><div class=\"sk-parallel-item\"><div class=\"sk-item\"><div class=\"sk-label-container\"><div class=\"sk-label sk-toggleable\"><input class=\"sk-toggleable__control sk-hidden--visually\" id=\"sk-estimator-id-2\" type=\"checkbox\" ><label for=\"sk-estimator-id-2\" class=\"sk-toggleable__label sk-toggleable__label-arrow\">numerical</label><div class=\"sk-toggleable__content\"><pre>[&#x27;muscle reading 1 sensor 1&#x27;, &#x27;muscle reading 1 sensor 2&#x27;, &#x27;muscle reading 1 sensor 3&#x27;, &#x27;muscle reading 1 sensor 4&#x27;, &#x27;muscle reading 1 sensor 5&#x27;, &#x27;muscle reading 1 sensor 6&#x27;, &#x27;muscle reading 1 sensor 7&#x27;, &#x27;muscle reading 1 sensor 8&#x27;, &#x27;muscle reading 2 sensor 1&#x27;, &#x27;muscle reading 2 sensor 2&#x27;, &#x27;muscle reading 2 sensor 3&#x27;, &#x27;muscle reading 2 sensor 4&#x27;, &#x27;muscle reading 2 sensor 5&#x27;, &#x27;muscle reading 2 sensor 6&#x27;, &#x27;muscle reading 2 sensor 7&#x27;, &#x27;muscle reading 2 sensor 8&#x27;, &#x27;muscle reading 3 sensor 1&#x27;, &#x27;muscle reading 3 sensor 2&#x27;, &#x27;muscle reading 3 sensor 3&#x27;, &#x27;muscle reading 3 sensor 4&#x27;, &#x27;muscle reading 3 sensor 5&#x27;, &#x27;muscle reading 3 sensor 6&#x27;, &#x27;muscle reading 3 sensor 7&#x27;, &#x27;muscle reading 3 sensor 8&#x27;, &#x27;muscle reading 4 sensor 1&#x27;, &#x27;muscle reading 4 sensor 2&#x27;, &#x27;muscle reading 4 sensor 3&#x27;, &#x27;muscle reading 4 sensor 4&#x27;, &#x27;muscle reading 4 sensor 5&#x27;, &#x27;muscle reading 4 sensor 6&#x27;, &#x27;muscle reading 4 sensor 7&#x27;, &#x27;muscle reading 4 sensor 8&#x27;, &#x27;muscle reading 5 sensor 1&#x27;, &#x27;muscle reading 5 sensor 2&#x27;, &#x27;muscle reading 5 sensor 3&#x27;, &#x27;muscle reading 5 sensor 4&#x27;, &#x27;muscle reading 5 sensor 5&#x27;, &#x27;muscle reading 5 sensor 6&#x27;, &#x27;muscle reading 5 sensor 7&#x27;, &#x27;muscle reading 5 sensor 8&#x27;, &#x27;muscle reading 6 sensor 1&#x27;, &#x27;muscle reading 6 sensor 2&#x27;, &#x27;muscle reading 6 sensor 3&#x27;, &#x27;muscle reading 6 sensor 4&#x27;, &#x27;muscle reading 6 sensor 5&#x27;, &#x27;muscle reading 6 sensor 6&#x27;, &#x27;muscle reading 6 sensor 7&#x27;, &#x27;muscle reading 6 sensor 8&#x27;, &#x27;muscle reading 7 sensor 1&#x27;, &#x27;muscle reading 7 sensor 2&#x27;, &#x27;muscle reading 7 sensor 3&#x27;, &#x27;muscle reading 7 sensor 4&#x27;, &#x27;muscle reading 7 sensor 5&#x27;, &#x27;muscle reading 7 sensor 6&#x27;, &#x27;muscle reading 7 sensor 7&#x27;, &#x27;muscle reading 7 sensor 8&#x27;, &#x27;muscle reading 8 sensor 1&#x27;, &#x27;muscle reading 8 sensor 2&#x27;, &#x27;muscle reading 8 sensor 3&#x27;, &#x27;muscle reading 8 sensor 4&#x27;, &#x27;muscle reading 8 sensor 5&#x27;, &#x27;muscle reading 8 sensor 6&#x27;, &#x27;muscle reading 8 sensor 7&#x27;, &#x27;muscle reading 8 sensor 8&#x27;]</pre></div></div></div><div class=\"sk-serial\"><div class=\"sk-item\"><div class=\"sk-serial\"><div class=\"sk-item\"><div class=\"sk-estimator sk-toggleable\"><input class=\"sk-toggleable__control sk-hidden--visually\" id=\"sk-estimator-id-3\" type=\"checkbox\" ><label for=\"sk-estimator-id-3\" class=\"sk-toggleable__label sk-toggleable__label-arrow\">SimpleImputer</label><div class=\"sk-toggleable__content\"><pre>SimpleImputer()</pre></div></div></div><div class=\"sk-item\"><div class=\"sk-estimator sk-toggleable\"><input class=\"sk-toggleable__control sk-hidden--visually\" id=\"sk-estimator-id-4\" type=\"checkbox\" ><label for=\"sk-estimator-id-4\" class=\"sk-toggleable__label sk-toggleable__label-arrow\">StandardScaler</label><div class=\"sk-toggleable__content\"><pre>StandardScaler()</pre></div></div></div></div></div></div></div></div><div class=\"sk-parallel-item\"><div class=\"sk-item\"><div class=\"sk-label-container\"><div class=\"sk-label sk-toggleable\"><input class=\"sk-toggleable__control sk-hidden--visually\" id=\"sk-estimator-id-5\" type=\"checkbox\" ><label for=\"sk-estimator-id-5\" class=\"sk-toggleable__label sk-toggleable__label-arrow\">nominal</label><div class=\"sk-toggleable__content\"><pre>[]</pre></div></div></div><div class=\"sk-serial\"><div class=\"sk-item\"><div class=\"sk-serial\"><div class=\"sk-item\"><div class=\"sk-estimator sk-toggleable\"><input class=\"sk-toggleable__control sk-hidden--visually\" id=\"sk-estimator-id-6\" type=\"checkbox\" ><label for=\"sk-estimator-id-6\" class=\"sk-toggleable__label sk-toggleable__label-arrow\">SimpleImputer</label><div class=\"sk-toggleable__content\"><pre>SimpleImputer(strategy=&#x27;most_frequent&#x27;)</pre></div></div></div><div class=\"sk-item\"><div class=\"sk-estimator sk-toggleable\"><input class=\"sk-toggleable__control sk-hidden--visually\" id=\"sk-estimator-id-7\" type=\"checkbox\" ><label for=\"sk-estimator-id-7\" class=\"sk-toggleable__label sk-toggleable__label-arrow\">OneHotEncoder</label><div class=\"sk-toggleable__content\"><pre>OneHotEncoder()</pre></div></div></div><div class=\"sk-item\"><div class=\"sk-estimator sk-toggleable\"><input class=\"sk-toggleable__control sk-hidden--visually\" id=\"sk-estimator-id-8\" type=\"checkbox\" ><label for=\"sk-estimator-id-8\" class=\"sk-toggleable__label sk-toggleable__label-arrow\">StandardScaler</label><div class=\"sk-toggleable__content\"><pre>StandardScaler()</pre></div></div></div></div></div></div></div></div></div></div></div></div>"
     },
     "execution_count": 16,
     "metadata": {},
     "output_type": "execute_result"
    }
   ],
   "source": [
    "preprocessor = processing.get_default_preprocessor(numerical_attrs, nominal_attrs)\n",
    "preprocessor"
   ],
   "metadata": {
    "collapsed": false,
    "ExecuteTime": {
     "end_time": "2024-03-10T08:16:58.223754Z",
     "start_time": "2024-03-10T08:16:58.132078Z"
    }
   },
   "id": "9c097103c111c0aa"
  },
  {
   "cell_type": "markdown",
   "source": [
    "#### I. Apply the preprocessing pipeline to the data frame to create a transformed data frame ready for EDA and machine learning."
   ],
   "metadata": {
    "collapsed": false
   },
   "id": "3fc02c010fd062b0"
  },
  {
   "cell_type": "code",
   "execution_count": 17,
   "outputs": [
    {
     "name": "stdout",
     "output_type": "stream",
     "text": [
      "(11678, 64)\n"
     ]
    },
    {
     "data": {
      "text/plain": "   muscle reading 1 sensor 1  muscle reading 1 sensor 2  \\\n0                   1.428445                   0.401724   \n1                  -2.503492                  -0.448155   \n2                  -0.995352                  -0.618131   \n3                   0.135753                   0.316736   \n4                   0.351202                   0.061772   \n\n   muscle reading 1 sensor 3  muscle reading 1 sensor 4  \\\n0                   1.150179                   1.173139   \n1                  -0.853937                  -0.842622   \n2                  -1.455172                  -0.977006   \n3                   0.148121                   0.366835   \n4                   0.148121                  -0.170702   \n\n   muscle reading 1 sensor 5  muscle reading 1 sensor 6  \\\n0                  -0.047110                  -0.482211   \n1                   0.737220                  -0.017247   \n2                  -1.167581                  -0.210982   \n3                   0.008913                   0.873935   \n4                  -0.775416                   0.408971   \n\n   muscle reading 1 sensor 7  muscle reading 1 sensor 8  \\\n0                  -4.293826                  -4.240470   \n1                   1.445765                  -0.606050   \n2                  -3.098077                   0.821758   \n3                   4.275702                  -0.865651   \n4                  -1.982046                   0.367456   \n\n   muscle reading 2 sensor 1  muscle reading 2 sensor 2  ...  \\\n0                  -0.459858                   0.224160  ...   \n1                   0.588529                  -0.282565  ...   \n2                   0.036746                   0.477522  ...   \n3                  -0.846106                  -0.113656  ...   \n4                   0.422994                   0.055252  ...   \n\n   muscle reading 7 sensor 7  muscle reading 7 sensor 8  \\\n0                   0.894454                  -1.785637   \n1                  -4.087375                  -1.587727   \n2                  -4.996756                  -5.414002   \n3                  -2.070920                  -2.445340   \n4                   2.436448                   2.568400   \n\n   muscle reading 8 sensor 1  muscle reading 8 sensor 2  \\\n0                   3.396947                   0.394898   \n1                   2.627872                   0.561499   \n2                   0.430515                   0.644800   \n3                  -0.558296                   0.394898   \n4                  -1.876710                  -0.604712   \n\n   muscle reading 8 sensor 3  muscle reading 8 sensor 4  \\\n0                   1.764490                   0.772653   \n1                   1.362038                   0.772653   \n2                   0.355910                  -0.987888   \n3                   1.563264                   1.585211   \n4                   0.557136                   0.908079   \n\n   muscle reading 8 sensor 5  muscle reading 8 sensor 6  \\\n0                   0.232428                  -0.259303   \n1                   0.736892                   0.836588   \n2                   0.400583                   0.836588   \n3                   1.857924                   1.541089   \n4                  -0.720448                  -0.924666   \n\n   muscle reading 8 sensor 7  muscle reading 8 sensor 8  \n0                  -2.278454                   1.069524  \n1                   4.451912                   1.005130  \n2                   4.570683                   3.130128  \n3                   4.768635                   2.808159  \n4                  -4.376745                  -4.403956  \n\n[5 rows x 64 columns]",
      "text/html": "<div>\n<style scoped>\n    .dataframe tbody tr th:only-of-type {\n        vertical-align: middle;\n    }\n\n    .dataframe tbody tr th {\n        vertical-align: top;\n    }\n\n    .dataframe thead th {\n        text-align: right;\n    }\n</style>\n<table border=\"1\" class=\"dataframe\">\n  <thead>\n    <tr style=\"text-align: right;\">\n      <th></th>\n      <th>muscle reading 1 sensor 1</th>\n      <th>muscle reading 1 sensor 2</th>\n      <th>muscle reading 1 sensor 3</th>\n      <th>muscle reading 1 sensor 4</th>\n      <th>muscle reading 1 sensor 5</th>\n      <th>muscle reading 1 sensor 6</th>\n      <th>muscle reading 1 sensor 7</th>\n      <th>muscle reading 1 sensor 8</th>\n      <th>muscle reading 2 sensor 1</th>\n      <th>muscle reading 2 sensor 2</th>\n      <th>...</th>\n      <th>muscle reading 7 sensor 7</th>\n      <th>muscle reading 7 sensor 8</th>\n      <th>muscle reading 8 sensor 1</th>\n      <th>muscle reading 8 sensor 2</th>\n      <th>muscle reading 8 sensor 3</th>\n      <th>muscle reading 8 sensor 4</th>\n      <th>muscle reading 8 sensor 5</th>\n      <th>muscle reading 8 sensor 6</th>\n      <th>muscle reading 8 sensor 7</th>\n      <th>muscle reading 8 sensor 8</th>\n    </tr>\n  </thead>\n  <tbody>\n    <tr>\n      <th>0</th>\n      <td>1.428445</td>\n      <td>0.401724</td>\n      <td>1.150179</td>\n      <td>1.173139</td>\n      <td>-0.047110</td>\n      <td>-0.482211</td>\n      <td>-4.293826</td>\n      <td>-4.240470</td>\n      <td>-0.459858</td>\n      <td>0.224160</td>\n      <td>...</td>\n      <td>0.894454</td>\n      <td>-1.785637</td>\n      <td>3.396947</td>\n      <td>0.394898</td>\n      <td>1.764490</td>\n      <td>0.772653</td>\n      <td>0.232428</td>\n      <td>-0.259303</td>\n      <td>-2.278454</td>\n      <td>1.069524</td>\n    </tr>\n    <tr>\n      <th>1</th>\n      <td>-2.503492</td>\n      <td>-0.448155</td>\n      <td>-0.853937</td>\n      <td>-0.842622</td>\n      <td>0.737220</td>\n      <td>-0.017247</td>\n      <td>1.445765</td>\n      <td>-0.606050</td>\n      <td>0.588529</td>\n      <td>-0.282565</td>\n      <td>...</td>\n      <td>-4.087375</td>\n      <td>-1.587727</td>\n      <td>2.627872</td>\n      <td>0.561499</td>\n      <td>1.362038</td>\n      <td>0.772653</td>\n      <td>0.736892</td>\n      <td>0.836588</td>\n      <td>4.451912</td>\n      <td>1.005130</td>\n    </tr>\n    <tr>\n      <th>2</th>\n      <td>-0.995352</td>\n      <td>-0.618131</td>\n      <td>-1.455172</td>\n      <td>-0.977006</td>\n      <td>-1.167581</td>\n      <td>-0.210982</td>\n      <td>-3.098077</td>\n      <td>0.821758</td>\n      <td>0.036746</td>\n      <td>0.477522</td>\n      <td>...</td>\n      <td>-4.996756</td>\n      <td>-5.414002</td>\n      <td>0.430515</td>\n      <td>0.644800</td>\n      <td>0.355910</td>\n      <td>-0.987888</td>\n      <td>0.400583</td>\n      <td>0.836588</td>\n      <td>4.570683</td>\n      <td>3.130128</td>\n    </tr>\n    <tr>\n      <th>3</th>\n      <td>0.135753</td>\n      <td>0.316736</td>\n      <td>0.148121</td>\n      <td>0.366835</td>\n      <td>0.008913</td>\n      <td>0.873935</td>\n      <td>4.275702</td>\n      <td>-0.865651</td>\n      <td>-0.846106</td>\n      <td>-0.113656</td>\n      <td>...</td>\n      <td>-2.070920</td>\n      <td>-2.445340</td>\n      <td>-0.558296</td>\n      <td>0.394898</td>\n      <td>1.563264</td>\n      <td>1.585211</td>\n      <td>1.857924</td>\n      <td>1.541089</td>\n      <td>4.768635</td>\n      <td>2.808159</td>\n    </tr>\n    <tr>\n      <th>4</th>\n      <td>0.351202</td>\n      <td>0.061772</td>\n      <td>0.148121</td>\n      <td>-0.170702</td>\n      <td>-0.775416</td>\n      <td>0.408971</td>\n      <td>-1.982046</td>\n      <td>0.367456</td>\n      <td>0.422994</td>\n      <td>0.055252</td>\n      <td>...</td>\n      <td>2.436448</td>\n      <td>2.568400</td>\n      <td>-1.876710</td>\n      <td>-0.604712</td>\n      <td>0.557136</td>\n      <td>0.908079</td>\n      <td>-0.720448</td>\n      <td>-0.924666</td>\n      <td>-4.376745</td>\n      <td>-4.403956</td>\n    </tr>\n  </tbody>\n</table>\n<p>5 rows × 64 columns</p>\n</div>"
     },
     "execution_count": 17,
     "metadata": {},
     "output_type": "execute_result"
    }
   ],
   "source": [
    "df_transformed = pd.DataFrame(\n",
    "    data=preprocessor.fit_transform(df), \n",
    "    columns=numerical_attrs + nominal_attrs\n",
    ")\n",
    "print(df_transformed.shape)\n",
    "df_transformed.head()"
   ],
   "metadata": {
    "collapsed": false,
    "ExecuteTime": {
     "end_time": "2024-03-10T08:16:58.224298Z",
     "start_time": "2024-03-10T08:16:58.148404Z"
    }
   },
   "id": "d08118ba72267be4"
  },
  {
   "cell_type": "markdown",
   "id": "e5351697bcbf8b86",
   "metadata": {
    "collapsed": false
   },
   "source": [
    "### Time to run script"
   ]
  },
  {
   "cell_type": "code",
   "execution_count": 18,
   "id": "e18d568c775ea33c",
   "metadata": {
    "collapsed": false,
    "ExecuteTime": {
     "end_time": "2024-03-10T08:16:58.224547Z",
     "start_time": "2024-03-10T08:16:58.183491Z"
    }
   },
   "outputs": [
    {
     "name": "stdout",
     "output_type": "stream",
     "text": [
      "script run time: 0.008623965581258138 minutes\n"
     ]
    }
   ],
   "source": [
    "end = time.time()\n",
    "print(f'script run time: {(end - start)/60} minutes')"
   ]
  },
  {
   "cell_type": "markdown",
   "id": "ea17a00b7db21754",
   "metadata": {
    "collapsed": false
   },
   "source": []
  },
  {
   "cell_type": "markdown",
   "id": "b8acc31115c88ef4",
   "metadata": {
    "collapsed": false
   },
   "source": []
  }
 ],
 "metadata": {
  "kernelspec": {
   "display_name": "Python 3 (ipykernel)",
   "language": "python",
   "name": "python3"
  },
  "language_info": {
   "codemirror_mode": {
    "name": "ipython",
    "version": 3
   },
   "file_extension": ".py",
   "mimetype": "text/x-python",
   "name": "python",
   "nbconvert_exporter": "python",
   "pygments_lexer": "ipython3",
   "version": "3.10.13"
  }
 },
 "nbformat": 4,
 "nbformat_minor": 5
}
